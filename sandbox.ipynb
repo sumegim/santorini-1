{
 "cells": [
  {
   "cell_type": "code",
   "execution_count": 1,
   "metadata": {},
   "outputs": [],
   "source": [
    "from santorinigo.environment import Santorini\n",
    "from santorinigo.network import ActorCritic\n",
    "from santorinigo.memory import VanillaMemory\n",
    "\n",
    "from tqdm import tqdm_notebook\n",
    "import matplotlib.pyplot as plt\n",
    "import numpy as np\n",
    "\n",
    "#torch\n",
    "import torch\n",
    "import torch.nn as nn\n",
    "import torch.nn.functional as F\n",
    "from torch import optim\n",
    "device = torch.device(\"cuda:0\" if torch.cuda.is_available() else \"cpu\")\n",
    "from torch.distributions import Categorical\n",
    "\n",
    "#hyperparameters from https://medium.com/aureliantactics/ppo-hyperparameters-and-ranges-6fc2d29bccbe"
   ]
  },
  {
   "cell_type": "markdown",
   "metadata": {},
   "source": [
    "## Environment"
   ]
  },
  {
   "cell_type": "code",
   "execution_count": 2,
   "metadata": {},
   "outputs": [
    {
     "name": "stdout",
     "output_type": "stream",
     "text": [
      "Buildings:\n",
      " [[0 0 0 0 0]\n",
      " [0 0 0 0 0]\n",
      " [0 0 0 0 0]\n",
      " [0 0 0 0 0]\n",
      " [0 0 0 0 0]]\n",
      "Workers:\n",
      " [[ 0  0 -1  0  0]\n",
      " [ 0  0  0  0  0]\n",
      " [ 1  0  0  0  2]\n",
      " [ 0  0  0  0  0]\n",
      " [ 0  0 -2  0  0]]\n",
      "Parts:\n",
      " [[ 0  0  0  0  0]\n",
      " [ 0 22  0  0  0]\n",
      " [ 0  0 18  0  0]\n",
      " [ 0  0  0 14  0]\n",
      " [ 0  0  0  0 18]]\n"
     ]
    }
   ],
   "source": [
    "env = Santorini()\n",
    "env.print_board()"
   ]
  },
  {
   "cell_type": "code",
   "execution_count": 3,
   "metadata": {},
   "outputs": [],
   "source": [
    "# ts=[]\n",
    "# for e in tqdm_notebook(range(100)):\n",
    "#     t=0\n",
    "#     env = Santorini()\n",
    "#     state = env.get_state()\n",
    "#     while True:\n",
    "#         t+=1\n",
    "#         legal_moves = env.legal_moves()\n",
    "#         if not legal_moves: break\n",
    "#         action = np.random.choice(legal_moves) if len(legal_moves) > 1 else legal_moves[0]\n",
    "#         next_state,reward,done,_ = env.step(action)\n",
    "#         if done:\n",
    "#             ts.append(t)\n",
    "#             break\n",
    "# plt.hist(ts,bins=100)"
   ]
  },
  {
   "cell_type": "markdown",
   "metadata": {},
   "source": [
    "## N-Step Bootstrapping\n",
    "Let $\\delta_t$ be the TD error at timestep t:\n",
    "$$\\delta_t = r_t + \\gamma V(s_{t+1}) - V(s_t)$$\n",
    "\n",
    "k-step bootstrap advantage can be written as:\n",
    "\n",
    "$$A^{k}_{t} = \\delta_t + \\gamma\\delta_{t+1} + ... + \\gamma^{k}\\delta_{t+k-1}$$\n",
    "\n",
    "$$A^{k}_{t} = -V(s_t) + r_t + \\gamma V(s_{t+1}) + \\gamma \\biggl[ r_{t+1} + \\gamma V(s_{t+2}) - V(s_{t+1}) \\biggl] + ...$$\n",
    "\n",
    "$$A^{k}_{t} = -V(s_t) + \\Sigma^{k-1}_{i=0} \\gamma^{i}r_{t+1} +\\gamma^kV(s_{t+k})$$\n",
    "\n",
    "1-step bootstrap advantage is TD error:\n",
    "\n",
    "$$A^{1}_{t} = \\delta_t = r_t + \\gamma V(s_{t+1}) - V(s_t)$$\n",
    "\n",
    "Infinite-step bootstrap advantage is Monte Carlo estimate:\n",
    "\n",
    "$$A^{\\infty}_{t} = -V(s_t) + \\Sigma^{\\infty}_{i=0} \\gamma^{i}r_{t+1}$$"
   ]
  },
  {
   "cell_type": "markdown",
   "metadata": {},
   "source": [
    "## Generalized Advantage Estimation (GAE) Returns"
   ]
  },
  {
   "cell_type": "markdown",
   "metadata": {},
   "source": [
    "Weighted average of $A^0_t$ to $A^k_t$ with hyperparameter $\\lambda$"
   ]
  },
  {
   "cell_type": "markdown",
   "metadata": {},
   "source": [
    "$$A^{GAE}_t = (1-\\lambda)\\biggl( A^{1}_t + A^{2}_t + ... \\biggl)$$\n",
    "$$A^{GAE}_t = (1-\\lambda)\\biggl( \\delta_t + \\lambda (\\delta_t + \\gamma \\delta_{t+1}) + \\lambda^2 (\\delta_t + \\gamma \\delta_{t+1} + \\gamma^2 \\delta_{t+2}) + ... \\biggl)$$\n",
    "$$A^{GAE}_t = (1-\\lambda)\\biggl( \\delta_t(1+\\lambda+\\lambda^2+...) + \\gamma\\delta_{t+1}(\\lambda+\\lambda^2+\\lambda^3+...) + ...\\biggl)$$\n",
    "$$A^{GAE}_t = (1-\\lambda)\\biggl( \\delta_t(\\frac{1}{1-\\lambda}) + \\gamma\\delta_{t+1}(\\frac{\\lambda}{1-\\lambda}) + ...\\biggl)$$\n",
    "\n",
    "$$A^{GAE}_t = \\Sigma_{i=0}^{\\infty}(\\lambda\\gamma)^i \\delta_{t+i}$$"
   ]
  },
  {
   "cell_type": "code",
   "execution_count": 4,
   "metadata": {},
   "outputs": [],
   "source": [
    "def gae_returns(rewards, values, dones, gamma=0.99, tau=0.95):\n",
    "    gae = 0\n",
    "    returns = []\n",
    "    for step in reversed(range(len(rewards))):\n",
    "        delta = rewards[step] + gamma * values[step + 1] * (1-dones[step]) - values[step]\n",
    "        gae = delta + gamma * tau * (1-dones[step]) * gae\n",
    "        returns.insert(0, gae + values[step]) #plus values back to convert advantage to returns\n",
    "    return(returns)\n",
    "\n",
    "def future_returns(rewards, dones, gamma=0.99):\n",
    "    g = 0\n",
    "    returns = []\n",
    "    for step in reversed(range(len(rewards))):\n",
    "        g = rewards[step] + gamma * g * (1-dones[step])\n",
    "        returns.insert(0, g)\n",
    "    return(returns)"
   ]
  },
  {
   "cell_type": "markdown",
   "metadata": {},
   "source": [
    "## Play Episode and Get Trajectory"
   ]
  },
  {
   "cell_type": "code",
   "execution_count": 233,
   "metadata": {},
   "outputs": [],
   "source": [
    "def play_episode(env, policy, tmax=100, random_actions=False, deterministic=False):\n",
    "    \n",
    "    #initialize trajectory\n",
    "    states    = []\n",
    "    actions   = []\n",
    "    log_probs = []\n",
    "    values    = []\n",
    "    rewards   = []\n",
    "    dones     = []\n",
    "    \n",
    "    #initialize state and policy\n",
    "    state = env.reset()\n",
    "    \n",
    "    for t in range(tmax):\n",
    "        state = torch.tensor(state, dtype=torch.float32, device=device).unsqueeze(0)\n",
    "        \n",
    "        #policy-based actions\n",
    "        dist, value = policy(state)\n",
    "        action = dist.sample()\n",
    "        if deterministic: action = torch.argmax(dist.probs)[None,]\n",
    "        \n",
    "        if random_actions:\n",
    "            #random legal actions\n",
    "            legal_moves = env.legal_moves()\n",
    "            action = np.random.choice(legal_moves) if len(legal_moves) > 0 else 0\n",
    "            action = torch.tensor(action, dtype=torch.float32, device=device).unsqueeze(0)\n",
    "        \n",
    "        #logprob and value\n",
    "        log_prob = dist.log_prob(action).cpu().detach().numpy()[0]\n",
    "        value = value.cpu().detach().numpy()[0,0]\n",
    "        \n",
    "        \n",
    "        #convert back to numpy / scalar\n",
    "        action = int(action.cpu().detach().numpy()[0])\n",
    "        state = state.cpu().detach().numpy()\n",
    "        \n",
    "        #env step\n",
    "        next_state,reward,done,current_player = env.step(action)\n",
    "        \n",
    "        # store the result\n",
    "        states.append(state)\n",
    "        actions.append(action)\n",
    "        log_probs.append(log_prob)\n",
    "        values.append(value)\n",
    "        rewards.append(reward)\n",
    "        dones.append(done)\n",
    "\n",
    "        state = next_state\n",
    "        if done: \n",
    "            state = torch.tensor(state, dtype=torch.float32, device=device).unsqueeze(0)\n",
    "            dist, value = policy(state)\n",
    "            value = value.cpu().detach().numpy()[0,0]\n",
    "            values.append(value)\n",
    "            break\n",
    "            \n",
    "    #calculate GAE\n",
    "    rets = gae_returns(rewards,values,dones)\n",
    "    advantages = [r - v for r in rets for v in values]\n",
    "    return(states,actions,log_probs,rets,advantages)"
   ]
  },
  {
   "cell_type": "markdown",
   "metadata": {},
   "source": [
    "## Update Network"
   ]
  },
  {
   "cell_type": "code",
   "execution_count": 162,
   "metadata": {},
   "outputs": [],
   "source": [
    "def ppo_update(model, memory, bs=5, epsilon=0.2, beta=0.01):\n",
    "    if len(memory) < bs: return(0,0,0)\n",
    "    state, action, old_log_prob, ret, advantage = memory.sample(bs)\n",
    "    dist, value = model(state)\n",
    "    entropy = dist.entropy().mean()\n",
    "    new_log_prob = dist.logits.gather(1,action.long())\n",
    "    \n",
    "    #calculate ratio and clipped surrogate\n",
    "    ratio = (new_log_prob - old_log_prob).exp()\n",
    "    surr1 = ratio * advantage\n",
    "    surr2 = torch.clamp(ratio, 1.0 - epsilon, 1.0 + epsilon) * advantage\n",
    "\n",
    "    #maximize surrogate function\n",
    "    actor_loss  = -torch.min(surr1, surr2).mean()\n",
    "    #difference between GAE returns and new value as loss for critic\n",
    "    critic_loss = F.mse_loss(ret,value)\n",
    "    loss = (0.5 * critic_loss) + (actor_loss) - (beta * entropy) #critic, action, regularization\n",
    "\n",
    "    #backprop\n",
    "    optimizer.zero_grad()\n",
    "    loss.backward()\n",
    "    optimizer.step()\n",
    "    \n",
    "    return(loss,actor_loss,critic_loss)"
   ]
  },
  {
   "cell_type": "markdown",
   "metadata": {},
   "source": [
    "## Training"
   ]
  },
  {
   "cell_type": "code",
   "execution_count": 329,
   "metadata": {},
   "outputs": [],
   "source": [
    "env = Santorini(winning_floor=3, history_len = 3)\n",
    "model = ActorCritic((16,5,5),128)\n",
    "memory = VanillaMemory(int(1e5))\n",
    "optimizer = optim.Adam(model.parameters(), lr=3e-4)\n",
    "\n",
    "losses = []\n",
    "actor_losses = []\n",
    "critic_losses = []\n",
    "ts = []\n",
    "wins = []\n",
    "epsilon = 0.2\n",
    "beta = 1e-2\n",
    "\n",
    "#warm up memory with random episodes\n",
    "# for i in tqdm_notebook(range(100)):\n",
    "#     states,actions,log_probs,rets,advantages = play_episode(env,model,random_actions=True)\n",
    "#     for state, action, log_prob, ret, advantage in zip(states, actions, log_probs, rets, advantages):\n",
    "#         memory.add(state, action, log_prob, ret, advantage)\n",
    "# len(memory)"
   ]
  },
  {
   "cell_type": "code",
   "execution_count": 330,
   "metadata": {},
   "outputs": [
    {
     "data": {
      "text/plain": [
       "35"
      ]
     },
     "execution_count": 330,
     "metadata": {},
     "output_type": "execute_result"
    }
   ],
   "source": [
    "states,actions,log_probs,rets,advantages = play_episode(env,model,random_actions=True)\n",
    "len(states)"
   ]
  },
  {
   "cell_type": "code",
   "execution_count": 332,
   "metadata": {},
   "outputs": [
    {
     "data": {
      "application/vnd.jupyter.widget-view+json": {
       "model_id": "ed2c2156cb74496c9c2976dfe7a8ab1d",
       "version_major": 2,
       "version_minor": 0
      },
      "text/plain": [
       "HBox(children=(IntProgress(value=0, max=1000), HTML(value='')))"
      ]
     },
     "metadata": {},
     "output_type": "display_data"
    },
    {
     "ename": "KeyboardInterrupt",
     "evalue": "",
     "output_type": "error",
     "traceback": [
      "\u001b[0;31m---------------------------------------------------------------------------\u001b[0m",
      "\u001b[0;31mKeyboardInterrupt\u001b[0m                         Traceback (most recent call last)",
      "\u001b[0;32m<ipython-input-332-1fca6ab76e5b>\u001b[0m in \u001b[0;36m<module>\u001b[0;34m()\u001b[0m\n\u001b[1;32m      6\u001b[0m     \u001b[0mmemory\u001b[0m \u001b[0;34m=\u001b[0m \u001b[0mVanillaMemory\u001b[0m\u001b[0;34m(\u001b[0m\u001b[0mint\u001b[0m\u001b[0;34m(\u001b[0m\u001b[0;36m1e3\u001b[0m\u001b[0;34m)\u001b[0m\u001b[0;34m)\u001b[0m\u001b[0;34m\u001b[0m\u001b[0m\n\u001b[1;32m      7\u001b[0m     \u001b[0mrandom_flag\u001b[0m \u001b[0;34m=\u001b[0m \u001b[0;32mTrue\u001b[0m \u001b[0;32mif\u001b[0m \u001b[0mi\u001b[0m \u001b[0;34m%\u001b[0m \u001b[0;36m2\u001b[0m\u001b[0;34m==\u001b[0m\u001b[0;36m0\u001b[0m \u001b[0;32melse\u001b[0m \u001b[0;32mFalse\u001b[0m\u001b[0;34m\u001b[0m\u001b[0m\n\u001b[0;32m----> 8\u001b[0;31m     \u001b[0mstates\u001b[0m\u001b[0;34m,\u001b[0m\u001b[0mactions\u001b[0m\u001b[0;34m,\u001b[0m\u001b[0mlog_probs\u001b[0m\u001b[0;34m,\u001b[0m\u001b[0mrets\u001b[0m\u001b[0;34m,\u001b[0m\u001b[0madvantages\u001b[0m \u001b[0;34m=\u001b[0m \u001b[0mplay_episode\u001b[0m\u001b[0;34m(\u001b[0m\u001b[0menv\u001b[0m\u001b[0;34m,\u001b[0m\u001b[0mmodel\u001b[0m\u001b[0;34m,\u001b[0m\u001b[0mrandom_actions\u001b[0m\u001b[0;34m=\u001b[0m\u001b[0mrandom_flag\u001b[0m\u001b[0;34m)\u001b[0m\u001b[0;34m\u001b[0m\u001b[0m\n\u001b[0m\u001b[1;32m      9\u001b[0m     \u001b[0mts\u001b[0m\u001b[0;34m.\u001b[0m\u001b[0mappend\u001b[0m\u001b[0;34m(\u001b[0m\u001b[0mlen\u001b[0m\u001b[0;34m(\u001b[0m\u001b[0mstates\u001b[0m\u001b[0;34m)\u001b[0m\u001b[0;34m)\u001b[0m\u001b[0;34m\u001b[0m\u001b[0m\n\u001b[1;32m     10\u001b[0m     \u001b[0;32mfor\u001b[0m \u001b[0mstate\u001b[0m\u001b[0;34m,\u001b[0m \u001b[0maction\u001b[0m\u001b[0;34m,\u001b[0m \u001b[0mlog_prob\u001b[0m\u001b[0;34m,\u001b[0m \u001b[0mret\u001b[0m\u001b[0;34m,\u001b[0m \u001b[0madvantage\u001b[0m \u001b[0;32min\u001b[0m \u001b[0mzip\u001b[0m\u001b[0;34m(\u001b[0m\u001b[0mstates\u001b[0m\u001b[0;34m,\u001b[0m \u001b[0mactions\u001b[0m\u001b[0;34m,\u001b[0m \u001b[0mlog_probs\u001b[0m\u001b[0;34m,\u001b[0m \u001b[0mrets\u001b[0m\u001b[0;34m,\u001b[0m \u001b[0madvantages\u001b[0m\u001b[0;34m)\u001b[0m\u001b[0;34m:\u001b[0m\u001b[0;34m\u001b[0m\u001b[0m\n",
      "\u001b[0;32m<ipython-input-233-d3d359199642>\u001b[0m in \u001b[0;36mplay_episode\u001b[0;34m(env, policy, tmax, random_actions, deterministic)\u001b[0m\n\u001b[1;32m     22\u001b[0m         \u001b[0;32mif\u001b[0m \u001b[0mrandom_actions\u001b[0m\u001b[0;34m:\u001b[0m\u001b[0;34m\u001b[0m\u001b[0m\n\u001b[1;32m     23\u001b[0m             \u001b[0;31m#random legal actions\u001b[0m\u001b[0;34m\u001b[0m\u001b[0;34m\u001b[0m\u001b[0m\n\u001b[0;32m---> 24\u001b[0;31m             \u001b[0mlegal_moves\u001b[0m \u001b[0;34m=\u001b[0m \u001b[0menv\u001b[0m\u001b[0;34m.\u001b[0m\u001b[0mlegal_moves\u001b[0m\u001b[0;34m(\u001b[0m\u001b[0;34m)\u001b[0m\u001b[0;34m\u001b[0m\u001b[0m\n\u001b[0m\u001b[1;32m     25\u001b[0m             \u001b[0maction\u001b[0m \u001b[0;34m=\u001b[0m \u001b[0mnp\u001b[0m\u001b[0;34m.\u001b[0m\u001b[0mrandom\u001b[0m\u001b[0;34m.\u001b[0m\u001b[0mchoice\u001b[0m\u001b[0;34m(\u001b[0m\u001b[0mlegal_moves\u001b[0m\u001b[0;34m)\u001b[0m \u001b[0;32mif\u001b[0m \u001b[0mlen\u001b[0m\u001b[0;34m(\u001b[0m\u001b[0mlegal_moves\u001b[0m\u001b[0;34m)\u001b[0m \u001b[0;34m>\u001b[0m \u001b[0;36m0\u001b[0m \u001b[0;32melse\u001b[0m \u001b[0;36m0\u001b[0m\u001b[0;34m\u001b[0m\u001b[0m\n\u001b[1;32m     26\u001b[0m             \u001b[0maction\u001b[0m \u001b[0;34m=\u001b[0m \u001b[0mtorch\u001b[0m\u001b[0;34m.\u001b[0m\u001b[0mtensor\u001b[0m\u001b[0;34m(\u001b[0m\u001b[0maction\u001b[0m\u001b[0;34m,\u001b[0m \u001b[0mdtype\u001b[0m\u001b[0;34m=\u001b[0m\u001b[0mtorch\u001b[0m\u001b[0;34m.\u001b[0m\u001b[0mfloat32\u001b[0m\u001b[0;34m,\u001b[0m \u001b[0mdevice\u001b[0m\u001b[0;34m=\u001b[0m\u001b[0mdevice\u001b[0m\u001b[0;34m)\u001b[0m\u001b[0;34m.\u001b[0m\u001b[0munsqueeze\u001b[0m\u001b[0;34m(\u001b[0m\u001b[0;36m0\u001b[0m\u001b[0;34m)\u001b[0m\u001b[0;34m\u001b[0m\u001b[0m\n",
      "\u001b[0;32m/mnt/c/charin_projects/santorini/santorinigo/environment.py\u001b[0m in \u001b[0;36mlegal_moves\u001b[0;34m(self)\u001b[0m\n\u001b[1;32m    224\u001b[0m         \u001b[0;32mfor\u001b[0m \u001b[0mi\u001b[0m\u001b[0;34m,\u001b[0m\u001b[0mj\u001b[0m \u001b[0;32min\u001b[0m \u001b[0menumerate\u001b[0m\u001b[0;34m(\u001b[0m\u001b[0mself\u001b[0m\u001b[0;34m.\u001b[0m\u001b[0mitoa\u001b[0m\u001b[0;34m)\u001b[0m\u001b[0;34m:\u001b[0m\u001b[0;34m\u001b[0m\u001b[0m\n\u001b[1;32m    225\u001b[0m             \u001b[0mlegal\u001b[0m \u001b[0;34m=\u001b[0m \u001b[0;32mTrue\u001b[0m\u001b[0;34m\u001b[0m\u001b[0m\n\u001b[0;32m--> 226\u001b[0;31m             \u001b[0mold_board\u001b[0m \u001b[0;34m=\u001b[0m \u001b[0mself\u001b[0m\u001b[0;34m.\u001b[0m\u001b[0mboard\u001b[0m\u001b[0;34m.\u001b[0m\u001b[0mcopy\u001b[0m\u001b[0;34m(\u001b[0m\u001b[0;34m)\u001b[0m\u001b[0;34m\u001b[0m\u001b[0m\n\u001b[0m\u001b[1;32m    227\u001b[0m \u001b[0;34m\u001b[0m\u001b[0m\n\u001b[1;32m    228\u001b[0m             \u001b[0;31m#try to move\u001b[0m\u001b[0;34m\u001b[0m\u001b[0;34m\u001b[0m\u001b[0m\n",
      "\u001b[0;31mKeyboardInterrupt\u001b[0m: "
     ]
    }
   ],
   "source": [
    "bs = 10\n",
    "update_times = 10\n",
    "\n",
    "for i in tqdm_notebook(range(1000)):\n",
    "    #collect trajectories\n",
    "    memory = VanillaMemory(int(1e3))\n",
    "    random_flag = True if i % 2==0 else False\n",
    "    states,actions,log_probs,rets,advantages = play_episode(env,model,random_actions=random_flag)\n",
    "    ts.append(len(states))\n",
    "    for state, action, log_prob, ret, advantage in zip(states, actions, log_probs, rets, advantages):\n",
    "        memory.add(state, action, log_prob, ret, advantage)\n",
    "    \n",
    "    #update\n",
    "    for _ in range(update_times):\n",
    "        l, a, c = ppo_update(model,memory,bs=5, epsilon=epsilon, beta=beta)\n",
    "    \n",
    "    #anneal hyperparameters\n",
    "#     epsilon*=.999\n",
    "#     beta*=.995\n",
    "    \n",
    "    #record\n",
    "    losses.append(l)\n",
    "    actor_losses.append(a)\n",
    "    critic_losses.append(c)\n",
    "    wins.append(1 if rets[-1]==1 else 0)\n",
    "    "
   ]
  },
  {
   "cell_type": "code",
   "execution_count": 333,
   "metadata": {},
   "outputs": [
    {
     "data": {
      "text/plain": [
       "[<matplotlib.lines.Line2D at 0x7fa71285aba8>]"
      ]
     },
     "execution_count": 333,
     "metadata": {},
     "output_type": "execute_result"
    },
    {
     "data": {
      "image/png": "[encoded data removed]",
      "text/plain": [
       "<Figure size 432x288 with 1 Axes>"
      ]
     },
     "metadata": {},
     "output_type": "display_data"
    }
   ],
   "source": [
    "plt.plot(actor_losses)"
   ]
  },
  {
   "cell_type": "code",
   "execution_count": 334,
   "metadata": {},
   "outputs": [
    {
     "data": {
      "text/plain": [
       "[<matplotlib.lines.Line2D at 0x7fa5d28f1278>]"
      ]
     },
     "execution_count": 334,
     "metadata": {},
     "output_type": "execute_result"
    },
    {
     "data": {
      "image/png": "[encoded data removed]",
      "text/plain": [
       "<Figure size 432x288 with 1 Axes>"
      ]
     },
     "metadata": {},
     "output_type": "display_data"
    }
   ],
   "source": [
    "plt.plot(critic_losses)"
   ]
  },
  {
   "cell_type": "code",
   "execution_count": 335,
   "metadata": {},
   "outputs": [
    {
     "data": {
      "text/plain": [
       "[<matplotlib.lines.Line2D at 0x7fa7131450b8>]"
      ]
     },
     "execution_count": 335,
     "metadata": {},
     "output_type": "execute_result"
    },
    {
     "data": {
      "image/png": "[encoded data removed]",
      "text/plain": [
       "<Figure size 432x288 with 1 Axes>"
      ]
     },
     "metadata": {},
     "output_type": "display_data"
    }
   ],
   "source": [
    "plt.plot(ts)"
   ]
  },
  {
   "cell_type": "code",
   "execution_count": 336,
   "metadata": {},
   "outputs": [
    {
     "data": {
      "text/plain": [
       "0.4875"
      ]
     },
     "execution_count": 336,
     "metadata": {},
     "output_type": "execute_result"
    }
   ],
   "source": [
    "np.mean(wins)"
   ]
  },
  {
   "cell_type": "code",
   "execution_count": 337,
   "metadata": {},
   "outputs": [
    {
     "data": {
      "application/vnd.jupyter.widget-view+json": {
       "model_id": "c895702694a74ac0917bed41f42b20d1",
       "version_major": 2,
       "version_minor": 0
      },
      "text/plain": [
       "HBox(children=(IntProgress(value=0), HTML(value='')))"
      ]
     },
     "metadata": {},
     "output_type": "display_data"
    },
    {
     "data": {
      "text/plain": [
       "0.0"
      ]
     },
     "execution_count": 337,
     "metadata": {},
     "output_type": "execute_result"
    }
   ],
   "source": [
    "wins = []\n",
    "for i in tqdm_notebook(range(100)):\n",
    "    states,actions,log_probs,rets,advantages = play_episode(env,model,random_actions=False)\n",
    "    if rets[-1]==1:\n",
    "        wins.append(1)\n",
    "    else:\n",
    "        wins.append(0)\n",
    "np.mean(wins)"
   ]
  },
  {
   "cell_type": "code",
   "execution_count": 338,
   "metadata": {},
   "outputs": [
    {
     "data": {
      "application/vnd.jupyter.widget-view+json": {
       "model_id": "d314f84afd184afd9aa51df56e4bc459",
       "version_major": 2,
       "version_minor": 0
      },
      "text/plain": [
       "HBox(children=(IntProgress(value=0), HTML(value='')))"
      ]
     },
     "metadata": {},
     "output_type": "display_data"
    },
    {
     "data": {
      "text/plain": [
       "0.0"
      ]
     },
     "execution_count": 338,
     "metadata": {},
     "output_type": "execute_result"
    }
   ],
   "source": [
    "wins = []\n",
    "for i in tqdm_notebook(range(100)):\n",
    "    states,actions,log_probs,rets,advantages = play_episode(env,model,random_actions=False,\n",
    "                                                           deterministic=True)\n",
    "    if rets[-1]==1:\n",
    "        wins.append(1)\n",
    "    else:\n",
    "        wins.append(0)\n",
    "np.mean(wins)"
   ]
  },
  {
   "cell_type": "code",
   "execution_count": 297,
   "metadata": {},
   "outputs": [
    {
     "data": {
      "text/plain": [
       "[-0.832875850633666, -0.8980824273526669, -1.0]"
      ]
     },
     "execution_count": 297,
     "metadata": {},
     "output_type": "execute_result"
    }
   ],
   "source": [
    "rets"
   ]
  },
  {
   "cell_type": "code",
   "execution_count": 298,
   "metadata": {},
   "outputs": [
    {
     "data": {
      "text/plain": [
       "[(-2, 'd', 'd'), (-2, 'z', 'z'), (-2, 'w', 'x')]"
      ]
     },
     "execution_count": 298,
     "metadata": {},
     "output_type": "execute_result"
    }
   ],
   "source": [
    "[env.itoa[a] for a in actions]"
   ]
  },
  {
   "cell_type": "code",
   "execution_count": 299,
   "metadata": {},
   "outputs": [],
   "source": [
    "state = torch.FloatTensor(env.reset()).unsqueeze(0)"
   ]
  },
  {
   "cell_type": "code",
   "execution_count": 300,
   "metadata": {},
   "outputs": [],
   "source": [
    "dist,value = model(state)"
   ]
  },
  {
   "cell_type": "code",
   "execution_count": 301,
   "metadata": {},
   "outputs": [
    {
     "data": {
      "text/plain": [
       "array([[0.00010345, 0.00090548, 0.00121273, 0.01674838, 0.00518168,\n",
       "        0.00078223, 0.00295611, 0.00167794, 0.0014934 , 0.00363579,\n",
       "        0.00253957, 0.00713722, 0.00549415, 0.00339692, 0.00375395,\n",
       "        0.00894033, 0.00122067, 0.0060496 , 0.00248325, 0.00562385,\n",
       "        0.00276573, 0.00770475, 0.00322179, 0.00547973, 0.0223842 ,\n",
       "        0.00760096, 0.00388381, 0.0102189 , 0.0088753 , 0.00734649,\n",
       "        0.00892943, 0.01166737, 0.00431235, 0.00401669, 0.00260887,\n",
       "        0.01172837, 0.00750936, 0.01146416, 0.01300342, 0.00734448,\n",
       "        0.00791293, 0.0083561 , 0.00789236, 0.01282131, 0.01715736,\n",
       "        0.0070944 , 0.01836511, 0.00593354, 0.00865561, 0.01978805,\n",
       "        0.00647608, 0.00925829, 0.01134466, 0.02252666, 0.00815961,\n",
       "        0.00922123, 0.00866179, 0.01655166, 0.01253306, 0.01044036,\n",
       "        0.00668137, 0.01013169, 0.00841211, 0.00442572, 0.00741118,\n",
       "        0.00521449, 0.00615948, 0.00879585, 0.01440174, 0.0085002 ,\n",
       "        0.00493587, 0.00973199, 0.0230356 , 0.00942509, 0.00622109,\n",
       "        0.00866926, 0.01080546, 0.01362021, 0.01247211, 0.01054239,\n",
       "        0.00529055, 0.00759487, 0.01185851, 0.01615611, 0.00542868,\n",
       "        0.00658002, 0.01511291, 0.01009279, 0.04305004, 0.01322226,\n",
       "        0.01034164, 0.01122163, 0.00717097, 0.00522991, 0.005566  ,\n",
       "        0.00474004, 0.0084255 , 0.00640684, 0.01676946, 0.00516221,\n",
       "        0.00984871, 0.00300773, 0.00949251, 0.00316711, 0.00519647,\n",
       "        0.0016082 , 0.00616517, 0.00695234, 0.00425574, 0.00394911,\n",
       "        0.00225461, 0.00266673, 0.0072725 , 0.00358624, 0.00495833,\n",
       "        0.00356423, 0.01591941, 0.00345273, 0.00253542, 0.00208044,\n",
       "        0.00200149, 0.00430458, 0.00119998, 0.00277873, 0.00150675,\n",
       "        0.00411484, 0.0029207 , 0.00167238]], dtype=float32)"
      ]
     },
     "execution_count": 301,
     "metadata": {},
     "output_type": "execute_result"
    }
   ],
   "source": [
    "dist.probs.detach().numpy()"
   ]
  },
  {
   "cell_type": "code",
   "execution_count": 292,
   "metadata": {},
   "outputs": [],
   "source": [
    "best_opening = np.argmax(dist.probs.detach().numpy())"
   ]
  },
  {
   "cell_type": "code",
   "execution_count": 293,
   "metadata": {},
   "outputs": [
    {
     "data": {
      "text/plain": [
       "(-2, 'a', 'q')"
      ]
     },
     "execution_count": 293,
     "metadata": {},
     "output_type": "execute_result"
    }
   ],
   "source": [
    "env.itoa[best_opening]"
   ]
  },
  {
   "cell_type": "code",
   "execution_count": 294,
   "metadata": {},
   "outputs": [
    {
     "name": "stdout",
     "output_type": "stream",
     "text": [
      "Buildings:\n",
      " [[0 0 0 0 0]\n",
      " [0 0 0 0 0]\n",
      " [0 0 0 0 0]\n",
      " [0 0 0 0 0]\n",
      " [0 0 0 0 0]]\n",
      "Workers:\n",
      " [[ 0  0 -1  0  0]\n",
      " [ 0  0  0  0  0]\n",
      " [ 1  0  0  0  2]\n",
      " [ 0  0  0  0  0]\n",
      " [ 0  0 -2  0  0]]\n",
      "Parts:\n",
      " [[ 0  0  0  0  0]\n",
      " [ 0 22  0  0  0]\n",
      " [ 0  0 18  0  0]\n",
      " [ 0  0  0 14  0]\n",
      " [ 0  0  0  0 18]]\n"
     ]
    }
   ],
   "source": [
    "env.print_board()"
   ]
  },
  {
   "cell_type": "code",
   "execution_count": null,
   "metadata": {},
   "outputs": [],
   "source": []
  },
  {
   "cell_type": "code",
   "execution_count": null,
   "metadata": {},
   "outputs": [],
   "source": []
  }
 ],
 "metadata": {
  "kernelspec": {
   "display_name": "Python 3",
   "language": "python",
   "name": "python3"
  },
  "language_info": {
   "codemirror_mode": {
    "name": "ipython",
    "version": 3
   },
   "file_extension": ".py",
   "mimetype": "text/x-python",
   "name": "python",
   "nbconvert_exporter": "python",
   "pygments_lexer": "ipython3",
   "version": "3.6.6"
  }
 },
 "nbformat": 4,
 "nbformat_minor": 2
}
