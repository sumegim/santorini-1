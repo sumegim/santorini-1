{
 "cells": [
  {
   "cell_type": "markdown",
   "metadata": {},
   "source": [
    "# Environment"
   ]
  },
  {
   "cell_type": "code",
   "execution_count": 14,
   "metadata": {},
   "outputs": [],
   "source": [
    "import numpy as np"
   ]
  },
  {
   "cell_type": "code",
   "execution_count": 94,
   "metadata": {},
   "outputs": [],
   "source": [
    "class Santorini:\n",
    "    def __init__(self, board_dim = (5,5), parts = [0,22,18,14,18]):\n",
    "        #action_space: 2 workers * 8 moves * 8 builds = 128 options\n",
    "        #moves/builds: q,w,e,a,d,z,x,c\n",
    "        self.workers = [-1,-2]\n",
    "        self.moves = self.builds = ['q','w','e','a','d','z','x','c']\n",
    "        #board[buildings/workers, vertical, horizontal]\n",
    "        self.ktoc = {'q':(-1,-1),\n",
    "                     'w':(-1,0),\n",
    "                     'e':(-1,1),\n",
    "                     'a':(0,-1),\n",
    "                     'd':(0,1),\n",
    "                     'z':(1,-1),\n",
    "                     'x':(1,0),\n",
    "                     'c':(1,1)}\n",
    "        self.itoa = [(w,m,b) for w in self.workers for m in self.moves for b in self.builds]\n",
    "        self.n_action = len(self.itoa)\n",
    "        \n",
    "        self.reset(board_dim, parts)\n",
    "\n",
    "    def reset(self, board_dim, parts):\n",
    "        #building pieces\n",
    "        #floor, base, mid, top, dome\n",
    "        self.parts = parts\n",
    "        \n",
    "        #keep track of players\n",
    "        #-1, 0 , 1 for player 1, blank, player 2\n",
    "        self.current_player = -1\n",
    "        \n",
    "        #two layers: building pieces, workers\n",
    "        self.board_dim = board_dim\n",
    "        self.board = np.zeros((2, board_dim[0], board_dim[1]), dtype=np.int64)\n",
    "        \n",
    "        self.board[1,0,2], self.board[1,4,2] = -1, -2 #negative workers for player 1\n",
    "        self.board[1,2,0], self.board[1,2,4] =  1, 2 #positive workers for player 2\n",
    "        \n",
    "        return(self.get_state())\n",
    "        \n",
    "    def print_board(self):\n",
    "        print(f'Buildings:\\n {self.board[0,:,:]}')\n",
    "        print(f'Workers:\\n {self.board[1,:,:]}')\n",
    "    \n",
    "    def get_state(self):\n",
    "        #current player has negative workers; opposing player has positive workers\n",
    "        sgn = -np.sign(self.current_player)\n",
    "        state = self.board.copy()\n",
    "        state[1,:,:]*=sgn\n",
    "        return(state)\n",
    "    \n",
    "    def score(self):\n",
    "        #get position of current player's workers\n",
    "        worker_idx = np.sign(self.get_state()[1,:,:])==-1\n",
    "        #check if workers at those positions are on top\n",
    "        if (self.board[0,:,:][worker_idx] == 3).any():\n",
    "            reward = 1\n",
    "        else:\n",
    "            reward = 0\n",
    "        return(reward)\n",
    "        \n",
    "    def move(self,worker,key):\n",
    "        #worker is either -1, -2; pov of current player\n",
    "        if worker not in [-1,-2]: raise ValueError('Wrong Worker')\n",
    "        \n",
    "        #get source and destinations\n",
    "        state = self.get_state()\n",
    "        worker_idx = np.where(state[1,:,:]==worker)\n",
    "        src = (worker_idx[0][0],worker_idx[1][0])\n",
    "        worker_num = self.board[1,src[0], src[1]]\n",
    "        delta = self.ktoc[key]\n",
    "        dest = (src[0]+delta[0],src[1]+delta[1])\n",
    "        \n",
    "        #check if correct turn\n",
    "        if np.sign(self.board[1,src[0],src[1]])!=self.current_player:\n",
    "            raise ValueError('Wrong Player')\n",
    "        \n",
    "        #check legality of the move; within the board, one level, no one standing\n",
    "        inbound =  (-1 < dest[0] < self.board_dim[0]) & (-1 < dest[1] < self.board_dim[1])\n",
    "        blank_tile = self.board[1,dest[0],dest[1]]==0\n",
    "        one_level = ((self.board[0,dest[0],dest[1]] - self.board[0,src[0],src[1]]) <=1)\n",
    "\n",
    "        if inbound & one_level & blank_tile:\n",
    "            self.board[1,src[0],src[1]] = 0\n",
    "            self.board[1,dest[0],dest[1]] = worker_num\n",
    "        else:\n",
    "            print(f'Illegal Build\\n Inbound: {inbound}\\n One Level: {one_level}\\n Blank Tile: {blank_tile}')\n",
    "            print(inbound,one_level,blank_tile)\n",
    "            raise ValueError(f'Illegal Move')\n",
    "    \n",
    "    def build(self,worker,key):\n",
    "        #worker is either -1, -2; pov of current player\n",
    "        if worker not in [-1,-2]: raise ValueError('Wrong Worker')\n",
    "        \n",
    "        #get source and destinations\n",
    "        state = self.get_state()\n",
    "        worker_idx = np.where(state[1,:,:]==worker)\n",
    "        src = (worker_idx[0][0],worker_idx[1][0])\n",
    "        worker_num = self.board[1,src[0], src[1]]\n",
    "        delta = self.ktoc[key]\n",
    "        dest = (src[0]+delta[0],src[1]+delta[1])\n",
    "        \n",
    "        #check tower size legality\n",
    "        to_build = self.board[0,dest[0],dest[1]] + 1\n",
    "        if to_build <=4:\n",
    "            parts_left = self.parts[to_build]\n",
    "        else:\n",
    "            raise ValueError('Building too tall')\n",
    "            \n",
    "        #check if correct turn\n",
    "        if np.sign(self.board[1,src[0],src[1]])!=self.current_player:\n",
    "            raise ValueError('Wrong Player')\n",
    "            \n",
    "        #check legality of the build; within the board, enough parts, no one standing\n",
    "        inbound =  (-1 < dest[0] < self.board_dim[0]) & (-1 < dest[1] < self.board_dim[1])\n",
    "        enough_parts = parts_left > 0\n",
    "        blank_tile = self.board[1,dest[0],dest[1]]==0\n",
    "        if inbound & enough_parts & blank_tile:\n",
    "            self.board[0,dest[0],dest[1]] = to_build\n",
    "            self.parts[to_build] -= 1\n",
    "        else:\n",
    "            print(f'Illegal Build\\n Inbound: {inbound}\\n Enough Parts: {enough_parts}\\n Blank Tile: {blank_tile}')\n",
    "            raise ValueError('Illegal Build')\n",
    "                  \n",
    "    def step(self,action_idx, switch_player=True):\n",
    "        worker,move_key,build_key = self.itoa[action_idx]\n",
    "        #try to move\n",
    "        try:\n",
    "            self.move(worker,move_key)\n",
    "        except:\n",
    "            next_state = self.get_state()\n",
    "            reward = -10\n",
    "            done = True\n",
    "            if switch_player: self.current_player *= -1\n",
    "            return(next_state,reward,done,self.current_player)\n",
    "            \n",
    "        #try to build\n",
    "        try:\n",
    "            self.build(worker,build_key)\n",
    "        except:\n",
    "            next_state = self.get_state()\n",
    "            reward = -10\n",
    "            done = True\n",
    "            if switch_player: self.current_player *= -1\n",
    "            return(next_state,reward,done,self.current_player)\n",
    "        \n",
    "        next_state = self.get_state()\n",
    "        reward = self.score()\n",
    "        done = True if reward==1 else False\n",
    "        if switch_player: self.current_player *= -1\n",
    "        return(next_state,reward,done,self.current_player)"
   ]
  },
  {
   "cell_type": "code",
   "execution_count": 95,
   "metadata": {},
   "outputs": [
    {
     "data": {
      "text/plain": [
       "array([[[ 0,  0,  0,  0,  0],\n",
       "        [ 0,  0,  0,  0,  0],\n",
       "        [ 0,  0,  0,  0,  0],\n",
       "        [ 0,  0,  0,  0,  0],\n",
       "        [ 0,  0,  0,  0,  0]],\n",
       "\n",
       "       [[ 0,  0,  1,  0,  0],\n",
       "        [ 0,  0,  0,  0,  0],\n",
       "        [-1,  0,  0,  0, -2],\n",
       "        [ 0,  0,  0,  0,  0],\n",
       "        [ 0,  0,  2,  0,  0]]])"
      ]
     },
     "execution_count": 95,
     "metadata": {},
     "output_type": "execute_result"
    }
   ],
   "source": [
    "s = Santorini()\n",
    "s.current_player = 1\n",
    "s.get_state()"
   ]
  },
  {
   "cell_type": "code",
   "execution_count": 96,
   "metadata": {},
   "outputs": [
    {
     "name": "stdout",
     "output_type": "stream",
     "text": [
      "Illegal Build\n",
      " Inbound: False\n",
      " One Level: True\n",
      " Blank Tile: True\n",
      "False True True\n"
     ]
    },
    {
     "data": {
      "text/plain": [
       "(array([[[ 0,  0,  0,  0,  0],\n",
       "         [ 0,  0,  0,  0,  0],\n",
       "         [ 0,  0,  0,  0,  0],\n",
       "         [ 0,  0,  0,  0,  0],\n",
       "         [ 0,  0,  0,  0,  0]],\n",
       " \n",
       "        [[ 0,  0,  1,  0,  0],\n",
       "         [ 0,  0,  0,  0,  0],\n",
       "         [-1,  0,  0,  0, -2],\n",
       "         [ 0,  0,  0,  0,  0],\n",
       "         [ 0,  0,  2,  0,  0]]]), -10, True, 1)"
      ]
     },
     "execution_count": 96,
     "metadata": {},
     "output_type": "execute_result"
    }
   ],
   "source": [
    "s.step(0,False)"
   ]
  },
  {
   "cell_type": "code",
   "execution_count": 81,
   "metadata": {},
   "outputs": [
    {
     "data": {
      "text/plain": [
       "-1"
      ]
     },
     "execution_count": 81,
     "metadata": {},
     "output_type": "execute_result"
    }
   ],
   "source": [
    "s.current_player"
   ]
  },
  {
   "cell_type": "code",
   "execution_count": 227,
   "metadata": {},
   "outputs": [],
   "source": [
    "idx = np.where(s.board[1,:,:]==-1)"
   ]
  },
  {
   "cell_type": "code",
   "execution_count": 230,
   "metadata": {},
   "outputs": [
    {
     "data": {
      "text/plain": [
       "array([-1])"
      ]
     },
     "execution_count": 230,
     "metadata": {},
     "output_type": "execute_result"
    }
   ],
   "source": [
    "s.board[1,idx[0],idx[1]]"
   ]
  },
  {
   "cell_type": "code",
   "execution_count": 64,
   "metadata": {},
   "outputs": [
    {
     "data": {
      "text/plain": [
       "(-1, 'w', 'w')"
      ]
     },
     "execution_count": 64,
     "metadata": {},
     "output_type": "execute_result"
    }
   ],
   "source": [
    "s.itoa[9]"
   ]
  },
  {
   "cell_type": "code",
   "execution_count": 339,
   "metadata": {},
   "outputs": [
    {
     "name": "stdout",
     "output_type": "stream",
     "text": [
      "x\n"
     ]
    }
   ],
   "source": [
    "if 0<x<2:\n",
    "    print('x')"
   ]
  },
  {
   "cell_type": "code",
   "execution_count": 253,
   "metadata": {},
   "outputs": [
    {
     "data": {
      "text/plain": [
       "0"
      ]
     },
     "execution_count": 253,
     "metadata": {},
     "output_type": "execute_result"
    }
   ],
   "source": [
    "s.board[1,x[0],x[1]]"
   ]
  },
  {
   "cell_type": "code",
   "execution_count": 308,
   "metadata": {},
   "outputs": [],
   "source": [
    "x = (1,1)"
   ]
  },
  {
   "cell_type": "code",
   "execution_count": 309,
   "metadata": {},
   "outputs": [
    {
     "ename": "TypeError",
     "evalue": "'>' not supported between instances of 'tuple' and 'int'",
     "output_type": "error",
     "traceback": [
      "\u001b[0;31m---------------------------------------------------------------------------\u001b[0m",
      "\u001b[0;31mTypeError\u001b[0m                                 Traceback (most recent call last)",
      "\u001b[0;32m<ipython-input-309-485bb156649a>\u001b[0m in \u001b[0;36m<module>\u001b[0;34m()\u001b[0m\n\u001b[0;32m----> 1\u001b[0;31m \u001b[0mx\u001b[0m\u001b[0;34m>\u001b[0m\u001b[0;36m0\u001b[0m\u001b[0;34m\u001b[0m\u001b[0m\n\u001b[0m",
      "\u001b[0;31mTypeError\u001b[0m: '>' not supported between instances of 'tuple' and 'int'"
     ]
    }
   ],
   "source": [
    "x>0"
   ]
  },
  {
   "cell_type": "code",
   "execution_count": 1,
   "metadata": {},
   "outputs": [],
   "source": [
    "import gym"
   ]
  },
  {
   "cell_type": "code",
   "execution_count": 3,
   "metadata": {},
   "outputs": [],
   "source": [
    "env = gym.make('Taxi-v2')"
   ]
  },
  {
   "cell_type": "code",
   "execution_count": 4,
   "metadata": {},
   "outputs": [
    {
     "data": {
      "text/plain": [
       "247"
      ]
     },
     "execution_count": 4,
     "metadata": {},
     "output_type": "execute_result"
    }
   ],
   "source": [
    "env.reset()"
   ]
  },
  {
   "cell_type": "code",
   "execution_count": 12,
   "metadata": {},
   "outputs": [
    {
     "data": {
      "text/plain": [
       "(147, -1, False, {'prob': 1.0})"
      ]
     },
     "execution_count": 12,
     "metadata": {},
     "output_type": "execute_result"
    }
   ],
   "source": [
    "env.step(1)"
   ]
  },
  {
   "cell_type": "code",
   "execution_count": null,
   "metadata": {},
   "outputs": [],
   "source": []
  }
 ],
 "metadata": {
  "kernelspec": {
   "display_name": "drlnd",
   "language": "python",
   "name": "drlnd"
  },
  "language_info": {
   "codemirror_mode": {
    "name": "ipython",
    "version": 3
   },
   "file_extension": ".py",
   "mimetype": "text/x-python",
   "name": "python",
   "nbconvert_exporter": "python",
   "pygments_lexer": "ipython3",
   "version": "3.6.6"
  }
 },
 "nbformat": 4,
 "nbformat_minor": 2
}
