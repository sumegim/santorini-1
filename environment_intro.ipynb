{
 "cells": [
  {
   "cell_type": "markdown",
   "metadata": {},
   "source": [
    "# Introducing the `Santorini` environment"
   ]
  },
  {
   "cell_type": "markdown",
   "metadata": {},
   "source": [
    "## Game Rules\n",
    "We slightly modified the original [Santorini](https://boardgamegeek.com/boardgame/194655/santorini) boardgame to fit our training regime a little bit better.\n",
    "\n",
    "### Setup\n",
    "* 5x5 grid\n",
    "* 2 players (modified from 2-4 players)\n",
    "* 2 workers each\n",
    "* Building pieces\n",
    "    * 22 First floors\n",
    "    * 18 Second floors\n",
    "    * 14 Third floors\n",
    "    * 18 Domes\n",
    "* Workers start across from each other (modified from anywhere on the board)\n",
    "* No special powers (modified from special powers randomly given by cards)\n",
    "\n",
    "### Each Turn\n",
    "* Player chooses one of their workers to move to a cell on the board that is:\n",
    "    * Adjacent to the current position in all eight directions\n",
    "    * Empty; no other workers standing or no dome covering it\n",
    "    * No more than one level higher than the current position\n",
    "* Using that worker at the new current position, the player then choose to build on a cell that is:\n",
    "    * Adjacent to the current position in all eight directions\n",
    "    * Building progression is as follows: Empty Floor -> First Floor -> Second Floor -> Third Floor -> Dome\n",
    "    * A worker cannot build if there are no parts left\n",
    "    \n",
    "### Win Condition\n",
    "The player whose any of their workers stand on the third floor automatically wins."
   ]
  },
  {
   "cell_type": "code",
   "execution_count": 1,
   "metadata": {},
   "outputs": [],
   "source": [
    "%load_ext autoreload\n",
    "%autoreload 2\n",
    "%matplotlib inline\n",
    "import numpy as np\n",
    "import matplotlib.pyplot as plt\n",
    "from santorinigo.environment import Santorini"
   ]
  },
  {
   "cell_type": "markdown",
   "metadata": {},
   "source": [
    "## Initialization "
   ]
  },
  {
   "cell_type": "markdown",
   "metadata": {},
   "source": [
    "Initialize the game with 2 players: `-1` and `1`. `-1` has negative workers `-1` and `-2` whereas `1` has positive workers `1` and `2`. Player `-1` always starts first.\n",
    "\n",
    "In order to see the human-legible board state, use `print_board` method. This will print out three layers:\n",
    "1. **Buildings**: the state of buildings, 0 being no building, 1-3 being one- to three-floor buildings, and 4 being a three-floor building with a dome on top\n",
    "2. **Workers**: negative numbers represent workers belonging to Player`-1` and positive numbers represent workers belonging to Player `1`.\n",
    "3. **Parts**: the diagonal contains number of pieces left for first, second, third floors and domes respectively (top left to lower right)."
   ]
  },
  {
   "cell_type": "code",
   "execution_count": 2,
   "metadata": {},
   "outputs": [
    {
     "name": "stdout",
     "output_type": "stream",
     "text": [
      "Buildings:\n",
      " [[0 0 0 0 0]\n",
      " [0 0 0 0 0]\n",
      " [0 0 0 0 0]\n",
      " [0 0 0 0 0]\n",
      " [0 0 0 0 0]]\n",
      "Workers:\n",
      " [[ 0  0 -1  0  0]\n",
      " [ 0  0  0  0  0]\n",
      " [ 1  0  0  0  2]\n",
      " [ 0  0  0  0  0]\n",
      " [ 0  0 -2  0  0]]\n",
      "Parts:\n",
      " [[ 0  0  0  0  0]\n",
      " [ 0 22  0  0  0]\n",
      " [ 0  0 18  0  0]\n",
      " [ 0  0  0 14  0]\n",
      " [ 0  0  0  0 18]]\n"
     ]
    }
   ],
   "source": [
    "env = Santorini(board_dim = (5,5), \n",
    "                starting_parts = np.array([0,22,18,14,18]),\n",
    "                history_len = 3, #tunable hyperparameter\n",
    "                winning_floor=3)\n",
    "#print out human-legible board state\n",
    "env.print_board()"
   ]
  },
  {
   "cell_type": "markdown",
   "metadata": {},
   "source": [
    "## States"
   ]
  },
  {
   "cell_type": "markdown",
   "metadata": {},
   "source": [
    "`get_state` method returns the for-machine state containing concatenation of the last `history_len` timesteps and one last 5x5 array of -1 or 1 depending on whose turn it is. Each timestep contains the following 5x5 arrays, in order:\n",
    "1. **Buildings layer**: same as `Buildings` in `print_board`\n",
    "2. **Worker `-1` layer**: 1 where worker `-1` is and 0 otherwise\n",
    "3. **Worker `-2` layer**: 1 where worker `-2` is and 0 otherwise\n",
    "4. **Worker `1` layer**: 1 where worker `1` is and 0 otherwise\n",
    "5. **Worker `2` layer**: 1 where worker `2` is and 0 otherwise"
   ]
  },
  {
   "cell_type": "code",
   "execution_count": 3,
   "metadata": {},
   "outputs": [
    {
     "name": "stdout",
     "output_type": "stream",
     "text": [
      "3\n",
      "16\n"
     ]
    },
    {
     "data": {
      "text/plain": [
       "(16, 5, 5)"
      ]
     },
     "execution_count": 3,
     "metadata": {},
     "output_type": "execute_result"
    }
   ],
   "source": [
    "#number of historical boards recorded\n",
    "print(env.history_len)\n",
    "#5 boards for buildings, worker -1, worker -2, worker 1, worker 2\n",
    "#1 boards for which player turn\n",
    "print(env.history_len * 5 + 1)\n",
    "env.get_state().shape"
   ]
  },
  {
   "cell_type": "markdown",
   "metadata": {},
   "source": [
    "## Actions"
   ]
  },
  {
   "cell_type": "markdown",
   "metadata": {},
   "source": [
    "Each turn a player chooses one of their 2 workers and perform 2 consecutive actions: move and build. The move action moves the selected worker in 8 possible directions. The build action will put a piece on any of the 8 possible directions. If the tile was empty, the worker will build first floor. If it already has first floor, the worker will build second floor and so on. You must move AND build in any turn unless the pieces run out and build action will do nothing.\n",
    "\n",
    "The directions mimic first-person shooting keyboard layout as follows:\n",
    "\n",
    "| _ | _ | _ | _ | _ |\n",
    "|---|---|----|---|---|\n",
    "| | | q | w | e | | |\n",
    "| | | a | -1 | d | | |\n",
    "| | | z | x | c | | |\n",
    "| _ | _ | _ | _ | _ |"
   ]
  },
  {
   "cell_type": "code",
   "execution_count": 4,
   "metadata": {},
   "outputs": [
    {
     "data": {
      "text/plain": [
       "128"
      ]
     },
     "execution_count": 4,
     "metadata": {},
     "output_type": "execute_result"
    }
   ],
   "source": [
    "#2 workers * 8 ways to move * 8 ways to build = 128 possible actions\n",
    "env.action_dim"
   ]
  },
  {
   "cell_type": "markdown",
   "metadata": {},
   "source": [
    "Thus, if you the move `-2` worker north (`w`) and build southeast (`c`), you will have the following board state:"
   ]
  },
  {
   "cell_type": "code",
   "execution_count": 5,
   "metadata": {},
   "outputs": [
    {
     "name": "stdout",
     "output_type": "stream",
     "text": [
      "Buildings:\n",
      " [[0 0 0 0 0]\n",
      " [0 0 0 0 0]\n",
      " [0 0 0 0 0]\n",
      " [0 0 0 0 0]\n",
      " [0 0 0 1 0]]\n",
      "Workers:\n",
      " [[ 0  0 -1  0  0]\n",
      " [ 0  0  0  0  0]\n",
      " [ 1  0  0  0  2]\n",
      " [ 0  0 -2  0  0]\n",
      " [ 0  0  0  0  0]]\n",
      "Parts:\n",
      " [[ 0  0  0  0  0]\n",
      " [ 0 21  0  0  0]\n",
      " [ 0  0 18  0  0]\n",
      " [ 0  0  0 14  0]\n",
      " [ 0  0  0  0 18]]\n"
     ]
    }
   ],
   "source": [
    "env.step(env.atoi[(-2,'w','c')])\n",
    "env.print_board()"
   ]
  },
  {
   "cell_type": "markdown",
   "metadata": {},
   "source": [
    "If you move out of the board, for instance moving worker `1` west (`a`) from the current board state, the game will end and player `1` will get -1. Likewise, with illegal builds. You can see all legal moves given the current board state by the `legal_moves` method."
   ]
  },
  {
   "cell_type": "code",
   "execution_count": 6,
   "metadata": {},
   "outputs": [
    {
     "data": {
      "text/plain": [
       "62"
      ]
     },
     "execution_count": 6,
     "metadata": {},
     "output_type": "execute_result"
    }
   ],
   "source": [
    "len(env.legal_moves())"
   ]
  },
  {
   "cell_type": "code",
   "execution_count": 7,
   "metadata": {},
   "outputs": [
    {
     "data": {
      "text/plain": [
       "[(-1, 'w', 'w'),\n",
       " (-1, 'w', 'e'),\n",
       " (-1, 'w', 'd'),\n",
       " (-1, 'w', 'x'),\n",
       " (-1, 'w', 'c'),\n",
       " (-1, 'e', 'q'),\n",
       " (-1, 'e', 'w'),\n",
       " (-1, 'e', 'a'),\n",
       " (-1, 'e', 'd'),\n",
       " (-1, 'e', 'z')]"
      ]
     },
     "execution_count": 7,
     "metadata": {},
     "output_type": "execute_result"
    }
   ],
   "source": [
    "#available actions\n",
    "[env.itoa[i] for i in env.legal_moves()][:10]"
   ]
  },
  {
   "cell_type": "markdown",
   "metadata": {},
   "source": [
    "There are also two useful properties `itoa` and `atoi` that serve as translators between action indice and action tuples."
   ]
  },
  {
   "cell_type": "code",
   "execution_count": 8,
   "metadata": {},
   "outputs": [
    {
     "data": {
      "text/plain": [
       "[(-1, 'q', 'q'),\n",
       " (-1, 'q', 'w'),\n",
       " (-1, 'q', 'e'),\n",
       " (-1, 'q', 'a'),\n",
       " (-1, 'q', 'd'),\n",
       " (-1, 'q', 'z'),\n",
       " (-1, 'q', 'x'),\n",
       " (-1, 'q', 'c'),\n",
       " (-1, 'w', 'q'),\n",
       " (-1, 'w', 'w')]"
      ]
     },
     "execution_count": 8,
     "metadata": {},
     "output_type": "execute_result"
    }
   ],
   "source": [
    "#env.itoa is a list of all action tuples; convert action indice to action tuples\n",
    "env.itoa[:10]"
   ]
  },
  {
   "cell_type": "code",
   "execution_count": 9,
   "metadata": {},
   "outputs": [
    {
     "name": "stdout",
     "output_type": "stream",
     "text": [
      "(-1, 'q', 'q') 0\n",
      "(-1, 'q', 'w') 1\n",
      "(-1, 'q', 'e') 2\n",
      "(-1, 'q', 'a') 3\n",
      "(-1, 'q', 'd') 4\n",
      "(-1, 'q', 'z') 5\n",
      "(-1, 'q', 'x') 6\n",
      "(-1, 'q', 'c') 7\n",
      "(-1, 'w', 'q') 8\n",
      "(-1, 'w', 'w') 9\n",
      "(-1, 'w', 'e') 10\n"
     ]
    }
   ],
   "source": [
    "#env.atoi is a dictionary with action tuples as keys and action indice as values\n",
    "#convert action tuples to action indice\n",
    "i=0\n",
    "for k,v in env.atoi.items():\n",
    "    i+=1\n",
    "    print(k,v)\n",
    "    if i>10: break"
   ]
  },
  {
   "cell_type": "markdown",
   "metadata": {},
   "source": [
    "## Human Play"
   ]
  },
  {
   "cell_type": "code",
   "execution_count": 10,
   "metadata": {},
   "outputs": [
    {
     "name": "stdout",
     "output_type": "stream",
     "text": [
      "Buildings:\n",
      " [[0 0 0 0 0]\n",
      " [0 0 0 0 0]\n",
      " [0 0 0 0 0]\n",
      " [0 0 0 0 0]\n",
      " [0 0 0 0 0]]\n",
      "Workers:\n",
      " [[ 0  0 -1  0  0]\n",
      " [ 0  0  0  0  0]\n",
      " [ 1  0  0  0  2]\n",
      " [ 0  0  0  0  0]\n",
      " [ 0  0 -2  0  0]]\n",
      "Parts:\n",
      " [[ 0  0  0  0  0]\n",
      " [ 0 22  0  0  0]\n",
      " [ 0  0 18  0  0]\n",
      " [ 0  0  0 14  0]\n",
      " [ 0  0  0  0 18]]\n"
     ]
    }
   ],
   "source": [
    "env = Santorini(board_dim = (5,5), \n",
    "                starting_parts = np.array([0,22,18,14,18]),\n",
    "                history_len = 3, #tunable hyperparameter\n",
    "                winning_floor=3)\n",
    "#print out human-legible board state\n",
    "env.print_board()"
   ]
  },
  {
   "cell_type": "markdown",
   "metadata": {},
   "source": [
    "You can keep running the following cells, changing only the `human_key` tuple to play the game."
   ]
  },
  {
   "cell_type": "code",
   "execution_count": 11,
   "metadata": {},
   "outputs": [
    {
     "name": "stdout",
     "output_type": "stream",
     "text": [
      "Player -1 performs (-1, 'x', 'w') action (index = 49)\n"
     ]
    }
   ],
   "source": [
    "#change this only\n",
    "human_key = (-1,'x','w')\n",
    "human_action = env.atoi[human_key]\n",
    "print(f'Player {env.current_player} performs {human_key} action (index = {human_action})')"
   ]
  },
  {
   "cell_type": "code",
   "execution_count": 12,
   "metadata": {},
   "outputs": [
    {
     "name": "stdout",
     "output_type": "stream",
     "text": [
      "Now Player 1 turn. Is game done? False\n",
      "Buildings:\n",
      " [[0 0 1 0 0]\n",
      " [0 0 0 0 0]\n",
      " [0 0 0 0 0]\n",
      " [0 0 0 0 0]\n",
      " [0 0 0 0 0]]\n",
      "Workers:\n",
      " [[ 0  0  0  0  0]\n",
      " [ 0  0 -1  0  0]\n",
      " [ 1  0  0  0  2]\n",
      " [ 0  0  0  0  0]\n",
      " [ 0  0 -2  0  0]]\n",
      "Parts:\n",
      " [[ 0  0  0  0  0]\n",
      " [ 0 21  0  0  0]\n",
      " [ 0  0 18  0  0]\n",
      " [ 0  0  0 14  0]\n",
      " [ 0  0  0  0 18]]\n"
     ]
    }
   ],
   "source": [
    "next_state,reward,done,current_player = env.step(human_action)\n",
    "print(f'Now Player {current_player} turn. Is game done? {done}')\n",
    "env.print_board()"
   ]
  },
  {
   "cell_type": "markdown",
   "metadata": {},
   "source": [
    "## Random Play"
   ]
  },
  {
   "cell_type": "markdown",
   "metadata": {},
   "source": [
    "With the help of `legal_moves` method, we can do random play until one player wins."
   ]
  },
  {
   "cell_type": "code",
   "execution_count": 13,
   "metadata": {},
   "outputs": [],
   "source": [
    "env = Santorini(board_dim = (5,5), \n",
    "                starting_parts = np.array([0,22,18,14,18]),\n",
    "                history_len = 3, #tunable hyperparameter\n",
    "                winning_floor=3)\n",
    "while True:\n",
    "    legal_moves = env.legal_moves()\n",
    "    action = np.random.choice(legal_moves)\n",
    "    next_state,reward,done,current_player = env.step(action)\n",
    "    if done: break"
   ]
  },
  {
   "cell_type": "code",
   "execution_count": 14,
   "metadata": {},
   "outputs": [
    {
     "name": "stdout",
     "output_type": "stream",
     "text": [
      "The game ended in 31 turns; 1 wins.\n",
      "Buildings:\n",
      " [[1 3 1 0 0]\n",
      " [0 3 2 0 2]\n",
      " [0 4 1 1 2]\n",
      " [0 1 0 3 0]\n",
      " [1 2 1 1 2]]\n",
      "Workers:\n",
      " [[ 0  0  0  0  0]\n",
      " [-1  1  0  0  0]\n",
      " [ 0  0  0  0  0]\n",
      " [ 0 -2  2  0  0]\n",
      " [ 0  0  0  0  0]]\n",
      "Parts:\n",
      " [[ 0  0  0  0  0]\n",
      " [ 0  5  0  0  0]\n",
      " [ 0  0  9  0  0]\n",
      " [ 0  0  0 10  0]\n",
      " [ 0  0  0  0 17]]\n"
     ]
    }
   ],
   "source": [
    "print(f'The game ended in {env.turns} turns; {current_player} wins.')\n",
    "env.print_board()"
   ]
  },
  {
   "cell_type": "markdown",
   "metadata": {},
   "source": [
    "## Self-Play DQN"
   ]
  },
  {
   "cell_type": "markdown",
   "metadata": {},
   "source": [
    "We can naively train a DQN agent to play against itself, although there is no clear way of evaluating performance of the agent, unless you play against it."
   ]
  },
  {
   "cell_type": "code",
   "execution_count": 38,
   "metadata": {},
   "outputs": [],
   "source": [
    "from santorinigo.memories import *\n",
    "from santorinigo.networks import *\n",
    "from santorinigo.agents import *"
   ]
  },
  {
   "cell_type": "code",
   "execution_count": 39,
   "metadata": {},
   "outputs": [],
   "source": [
    "mem = PrioritizedNStepMemory(int(1e5))\n",
    "a = DQNAgent(state_size = env.reset().flatten().shape[0], \n",
    "             hidden_sizes = [1024,512],\n",
    "             action_size = env.action_dim, replay_memory = mem,\n",
    "             double=True, Architecture=DuelingNetwork) "
   ]
  },
  {
   "cell_type": "code",
   "execution_count": 40,
   "metadata": {},
   "outputs": [
    {
     "data": {
      "application/vnd.jupyter.widget-view+json": {
       "model_id": "a6593fdf705945309227a0da3fef805e",
       "version_major": 2,
       "version_minor": 0
      },
      "text/plain": [
       "HBox(children=(IntProgress(value=0, max=10000), HTML(value='')))"
      ]
     },
     "metadata": {},
     "output_type": "display_data"
    },
    {
     "name": "stderr",
     "output_type": "stream",
     "text": [
      "/home/charin/anaconda3/envs/drlnd/lib/python3.6/site-packages/ipykernel_launcher.py:18: FutureWarning: elementwise comparison failed; returning scalar instead, but in the future will perform elementwise comparison\n"
     ]
    },
    {
     "ename": "KeyboardInterrupt",
     "evalue": "",
     "output_type": "error",
     "traceback": [
      "\u001b[0;31m---------------------------------------------------------------------------\u001b[0m",
      "\u001b[0;31mKeyboardInterrupt\u001b[0m                         Traceback (most recent call last)",
      "\u001b[0;32m<ipython-input-40-d9ba8c07decc>\u001b[0m in \u001b[0;36m<module>\u001b[0;34m\u001b[0m\n\u001b[1;32m     29\u001b[0m \u001b[0;34m\u001b[0m\u001b[0m\n\u001b[1;32m     30\u001b[0m         \u001b[0;31m#agent step\u001b[0m\u001b[0;34m\u001b[0m\u001b[0;34m\u001b[0m\u001b[0;34m\u001b[0m\u001b[0m\n\u001b[0;32m---> 31\u001b[0;31m         \u001b[0ma\u001b[0m\u001b[0;34m.\u001b[0m\u001b[0mstep\u001b[0m\u001b[0;34m(\u001b[0m\u001b[0mstate\u001b[0m\u001b[0;34m,\u001b[0m\u001b[0maction\u001b[0m\u001b[0;34m,\u001b[0m\u001b[0mreward\u001b[0m\u001b[0;34m,\u001b[0m\u001b[0mnext_state\u001b[0m\u001b[0;34m,\u001b[0m\u001b[0mdone\u001b[0m\u001b[0;34m)\u001b[0m\u001b[0;34m\u001b[0m\u001b[0;34m\u001b[0m\u001b[0m\n\u001b[0m\u001b[1;32m     32\u001b[0m \u001b[0;34m\u001b[0m\u001b[0m\n\u001b[1;32m     33\u001b[0m \u001b[0;34m\u001b[0m\u001b[0m\n",
      "\u001b[0;32m/mnt/c/charin_projects/santorini/santorinigo/agents.py\u001b[0m in \u001b[0;36mstep\u001b[0;34m(self, state, action, reward, next_state, done)\u001b[0m\n\u001b[1;32m    146\u001b[0m                     \u001b[0;32melse\u001b[0m\u001b[0;34m:\u001b[0m\u001b[0;34m\u001b[0m\u001b[0;34m\u001b[0m\u001b[0m\n\u001b[1;32m    147\u001b[0m                         \u001b[0mtransitions\u001b[0m \u001b[0;34m=\u001b[0m \u001b[0mself\u001b[0m\u001b[0;34m.\u001b[0m\u001b[0mmemory\u001b[0m\u001b[0;34m.\u001b[0m\u001b[0msample\u001b[0m\u001b[0;34m(\u001b[0m\u001b[0mself\u001b[0m\u001b[0;34m.\u001b[0m\u001b[0mbs\u001b[0m\u001b[0;34m)\u001b[0m\u001b[0;34m\u001b[0m\u001b[0;34m\u001b[0m\u001b[0m\n\u001b[0;32m--> 148\u001b[0;31m                     \u001b[0mloss\u001b[0m \u001b[0;34m=\u001b[0m \u001b[0mself\u001b[0m\u001b[0;34m.\u001b[0m\u001b[0mlearn\u001b[0m\u001b[0;34m(\u001b[0m\u001b[0mtransitions\u001b[0m\u001b[0;34m)\u001b[0m\u001b[0;34m\u001b[0m\u001b[0;34m\u001b[0m\u001b[0m\n\u001b[0m\u001b[1;32m    149\u001b[0m                     \u001b[0mself\u001b[0m\u001b[0;34m.\u001b[0m\u001b[0mlosses\u001b[0m\u001b[0;34m.\u001b[0m\u001b[0mappend\u001b[0m\u001b[0;34m(\u001b[0m\u001b[0mloss\u001b[0m\u001b[0;34m)\u001b[0m\u001b[0;34m\u001b[0m\u001b[0;34m\u001b[0m\u001b[0m\n\u001b[1;32m    150\u001b[0m \u001b[0;34m\u001b[0m\u001b[0m\n",
      "\u001b[0;32m/mnt/c/charin_projects/santorini/santorinigo/agents.py\u001b[0m in \u001b[0;36mlearn\u001b[0;34m(self, transitions)\u001b[0m\n\u001b[1;32m    201\u001b[0m         \u001b[0;32mwith\u001b[0m \u001b[0mtf\u001b[0m\u001b[0;34m.\u001b[0m\u001b[0mGradientTape\u001b[0m\u001b[0;34m(\u001b[0m\u001b[0;34m)\u001b[0m \u001b[0;32mas\u001b[0m \u001b[0mtape\u001b[0m\u001b[0;34m:\u001b[0m\u001b[0;34m\u001b[0m\u001b[0;34m\u001b[0m\u001b[0m\n\u001b[1;32m    202\u001b[0m             \u001b[0;31m#get predictions of all actions\u001b[0m\u001b[0;34m\u001b[0m\u001b[0;34m\u001b[0m\u001b[0;34m\u001b[0m\u001b[0m\n\u001b[0;32m--> 203\u001b[0;31m             \u001b[0mpreds\u001b[0m \u001b[0;34m=\u001b[0m \u001b[0mself\u001b[0m\u001b[0;34m.\u001b[0m\u001b[0mnetwork_local\u001b[0m\u001b[0;34m(\u001b[0m\u001b[0mstates\u001b[0m\u001b[0;34m)\u001b[0m\u001b[0;34m\u001b[0m\u001b[0;34m\u001b[0m\u001b[0m\n\u001b[0m\u001b[1;32m    204\u001b[0m \u001b[0;34m\u001b[0m\u001b[0m\n\u001b[1;32m    205\u001b[0m             \u001b[0;31m#get index of actions used to calculate q_expected\u001b[0m\u001b[0;34m\u001b[0m\u001b[0;34m\u001b[0m\u001b[0;34m\u001b[0m\u001b[0m\n",
      "\u001b[0;32m~/anaconda3/envs/drlnd/lib/python3.6/site-packages/tensorflow/python/keras/engine/base_layer.py\u001b[0m in \u001b[0;36m__call__\u001b[0;34m(self, inputs, *args, **kwargs)\u001b[0m\n\u001b[1;32m    710\u001b[0m           with base_layer_utils.autocast_context_manager(\n\u001b[1;32m    711\u001b[0m               input_list, self._mixed_precision_policy.should_cast_variables):\n\u001b[0;32m--> 712\u001b[0;31m             \u001b[0moutputs\u001b[0m \u001b[0;34m=\u001b[0m \u001b[0mself\u001b[0m\u001b[0;34m.\u001b[0m\u001b[0mcall\u001b[0m\u001b[0;34m(\u001b[0m\u001b[0minputs\u001b[0m\u001b[0;34m,\u001b[0m \u001b[0;34m*\u001b[0m\u001b[0margs\u001b[0m\u001b[0;34m,\u001b[0m \u001b[0;34m**\u001b[0m\u001b[0mkwargs\u001b[0m\u001b[0;34m)\u001b[0m\u001b[0;34m\u001b[0m\u001b[0;34m\u001b[0m\u001b[0m\n\u001b[0m\u001b[1;32m    713\u001b[0m           \u001b[0mself\u001b[0m\u001b[0;34m.\u001b[0m\u001b[0m_handle_activity_regularization\u001b[0m\u001b[0;34m(\u001b[0m\u001b[0minputs\u001b[0m\u001b[0;34m,\u001b[0m \u001b[0moutputs\u001b[0m\u001b[0;34m)\u001b[0m\u001b[0;34m\u001b[0m\u001b[0;34m\u001b[0m\u001b[0m\n\u001b[1;32m    714\u001b[0m           \u001b[0mself\u001b[0m\u001b[0;34m.\u001b[0m\u001b[0m_set_mask_metadata\u001b[0m\u001b[0;34m(\u001b[0m\u001b[0minputs\u001b[0m\u001b[0;34m,\u001b[0m \u001b[0moutputs\u001b[0m\u001b[0;34m,\u001b[0m \u001b[0minput_masks\u001b[0m\u001b[0;34m)\u001b[0m\u001b[0;34m\u001b[0m\u001b[0;34m\u001b[0m\u001b[0m\n",
      "\u001b[0;32m/mnt/c/charin_projects/santorini/santorinigo/networks.py\u001b[0m in \u001b[0;36mcall\u001b[0;34m(self, x, training)\u001b[0m\n\u001b[1;32m     37\u001b[0m         \u001b[0;32mfor\u001b[0m \u001b[0ma\u001b[0m \u001b[0;32min\u001b[0m \u001b[0mself\u001b[0m\u001b[0;34m.\u001b[0m\u001b[0madvantage\u001b[0m\u001b[0;34m:\u001b[0m \u001b[0madv\u001b[0m \u001b[0;34m=\u001b[0m \u001b[0ma\u001b[0m\u001b[0;34m(\u001b[0m\u001b[0madv\u001b[0m\u001b[0;34m)\u001b[0m\u001b[0;34m\u001b[0m\u001b[0;34m\u001b[0m\u001b[0m\n\u001b[1;32m     38\u001b[0m         \u001b[0mval\u001b[0m \u001b[0;34m=\u001b[0m \u001b[0mfeat\u001b[0m\u001b[0;34m\u001b[0m\u001b[0;34m\u001b[0m\u001b[0m\n\u001b[0;32m---> 39\u001b[0;31m         \u001b[0;32mfor\u001b[0m \u001b[0mv\u001b[0m \u001b[0;32min\u001b[0m \u001b[0mself\u001b[0m\u001b[0;34m.\u001b[0m\u001b[0mvalue\u001b[0m\u001b[0;34m:\u001b[0m \u001b[0mval\u001b[0m \u001b[0;34m=\u001b[0m \u001b[0mv\u001b[0m\u001b[0;34m(\u001b[0m\u001b[0mval\u001b[0m\u001b[0;34m)\u001b[0m\u001b[0;34m\u001b[0m\u001b[0;34m\u001b[0m\u001b[0m\n\u001b[0m\u001b[1;32m     40\u001b[0m         \u001b[0;32mreturn\u001b[0m \u001b[0madv\u001b[0m \u001b[0;34m+\u001b[0m \u001b[0mval\u001b[0m \u001b[0;34m-\u001b[0m \u001b[0mtf\u001b[0m\u001b[0;34m.\u001b[0m\u001b[0mreduce_mean\u001b[0m\u001b[0;34m(\u001b[0m\u001b[0madv\u001b[0m\u001b[0;34m)\u001b[0m\u001b[0;34m\u001b[0m\u001b[0;34m\u001b[0m\u001b[0m\n\u001b[1;32m     41\u001b[0m \u001b[0;34m\u001b[0m\u001b[0m\n",
      "\u001b[0;32m~/anaconda3/envs/drlnd/lib/python3.6/site-packages/tensorflow/python/keras/engine/base_layer.py\u001b[0m in \u001b[0;36m__call__\u001b[0;34m(self, inputs, *args, **kwargs)\u001b[0m\n\u001b[1;32m    710\u001b[0m           with base_layer_utils.autocast_context_manager(\n\u001b[1;32m    711\u001b[0m               input_list, self._mixed_precision_policy.should_cast_variables):\n\u001b[0;32m--> 712\u001b[0;31m             \u001b[0moutputs\u001b[0m \u001b[0;34m=\u001b[0m \u001b[0mself\u001b[0m\u001b[0;34m.\u001b[0m\u001b[0mcall\u001b[0m\u001b[0;34m(\u001b[0m\u001b[0minputs\u001b[0m\u001b[0;34m,\u001b[0m \u001b[0;34m*\u001b[0m\u001b[0margs\u001b[0m\u001b[0;34m,\u001b[0m \u001b[0;34m**\u001b[0m\u001b[0mkwargs\u001b[0m\u001b[0;34m)\u001b[0m\u001b[0;34m\u001b[0m\u001b[0;34m\u001b[0m\u001b[0m\n\u001b[0m\u001b[1;32m    713\u001b[0m           \u001b[0mself\u001b[0m\u001b[0;34m.\u001b[0m\u001b[0m_handle_activity_regularization\u001b[0m\u001b[0;34m(\u001b[0m\u001b[0minputs\u001b[0m\u001b[0;34m,\u001b[0m \u001b[0moutputs\u001b[0m\u001b[0;34m)\u001b[0m\u001b[0;34m\u001b[0m\u001b[0;34m\u001b[0m\u001b[0m\n\u001b[1;32m    714\u001b[0m           \u001b[0mself\u001b[0m\u001b[0;34m.\u001b[0m\u001b[0m_set_mask_metadata\u001b[0m\u001b[0;34m(\u001b[0m\u001b[0minputs\u001b[0m\u001b[0;34m,\u001b[0m \u001b[0moutputs\u001b[0m\u001b[0;34m,\u001b[0m \u001b[0minput_masks\u001b[0m\u001b[0;34m)\u001b[0m\u001b[0;34m\u001b[0m\u001b[0;34m\u001b[0m\u001b[0m\n",
      "\u001b[0;32m~/anaconda3/envs/drlnd/lib/python3.6/site-packages/tensorflow/python/keras/layers/core.py\u001b[0m in \u001b[0;36mcall\u001b[0;34m(self, inputs)\u001b[0m\n\u001b[1;32m   1046\u001b[0m       \u001b[0;32mif\u001b[0m \u001b[0;32mnot\u001b[0m \u001b[0mself\u001b[0m\u001b[0;34m.\u001b[0m\u001b[0m_mixed_precision_policy\u001b[0m\u001b[0;34m.\u001b[0m\u001b[0mshould_cast_variables\u001b[0m\u001b[0;34m:\u001b[0m\u001b[0;34m\u001b[0m\u001b[0;34m\u001b[0m\u001b[0m\n\u001b[1;32m   1047\u001b[0m         \u001b[0minputs\u001b[0m \u001b[0;34m=\u001b[0m \u001b[0mmath_ops\u001b[0m\u001b[0;34m.\u001b[0m\u001b[0mcast\u001b[0m\u001b[0;34m(\u001b[0m\u001b[0minputs\u001b[0m\u001b[0;34m,\u001b[0m \u001b[0mself\u001b[0m\u001b[0;34m.\u001b[0m\u001b[0mdtype\u001b[0m\u001b[0;34m)\u001b[0m\u001b[0;34m\u001b[0m\u001b[0;34m\u001b[0m\u001b[0m\n\u001b[0;32m-> 1048\u001b[0;31m       \u001b[0moutputs\u001b[0m \u001b[0;34m=\u001b[0m \u001b[0mgen_math_ops\u001b[0m\u001b[0;34m.\u001b[0m\u001b[0mmat_mul\u001b[0m\u001b[0;34m(\u001b[0m\u001b[0minputs\u001b[0m\u001b[0;34m,\u001b[0m \u001b[0mself\u001b[0m\u001b[0;34m.\u001b[0m\u001b[0mkernel\u001b[0m\u001b[0;34m)\u001b[0m\u001b[0;34m\u001b[0m\u001b[0;34m\u001b[0m\u001b[0m\n\u001b[0m\u001b[1;32m   1049\u001b[0m     \u001b[0;32mif\u001b[0m \u001b[0mself\u001b[0m\u001b[0;34m.\u001b[0m\u001b[0muse_bias\u001b[0m\u001b[0;34m:\u001b[0m\u001b[0;34m\u001b[0m\u001b[0;34m\u001b[0m\u001b[0m\n\u001b[1;32m   1050\u001b[0m       \u001b[0moutputs\u001b[0m \u001b[0;34m=\u001b[0m \u001b[0mnn\u001b[0m\u001b[0;34m.\u001b[0m\u001b[0mbias_add\u001b[0m\u001b[0;34m(\u001b[0m\u001b[0moutputs\u001b[0m\u001b[0;34m,\u001b[0m \u001b[0mself\u001b[0m\u001b[0;34m.\u001b[0m\u001b[0mbias\u001b[0m\u001b[0;34m)\u001b[0m\u001b[0;34m\u001b[0m\u001b[0;34m\u001b[0m\u001b[0m\n",
      "\u001b[0;32m~/anaconda3/envs/drlnd/lib/python3.6/site-packages/tensorflow/python/ops/gen_math_ops.py\u001b[0m in \u001b[0;36mmat_mul\u001b[0;34m(a, b, transpose_a, transpose_b, name)\u001b[0m\n\u001b[1;32m   5899\u001b[0m         \u001b[0m_ctx\u001b[0m\u001b[0;34m.\u001b[0m\u001b[0m_context_handle\u001b[0m\u001b[0;34m,\u001b[0m \u001b[0m_ctx\u001b[0m\u001b[0;34m.\u001b[0m\u001b[0m_thread_local_data\u001b[0m\u001b[0;34m.\u001b[0m\u001b[0mdevice_name\u001b[0m\u001b[0;34m,\u001b[0m \u001b[0;34m\"MatMul\"\u001b[0m\u001b[0;34m,\u001b[0m\u001b[0;34m\u001b[0m\u001b[0;34m\u001b[0m\u001b[0m\n\u001b[1;32m   5900\u001b[0m         \u001b[0mname\u001b[0m\u001b[0;34m,\u001b[0m \u001b[0m_ctx\u001b[0m\u001b[0;34m.\u001b[0m\u001b[0m_post_execution_callbacks\u001b[0m\u001b[0;34m,\u001b[0m \u001b[0ma\u001b[0m\u001b[0;34m,\u001b[0m \u001b[0mb\u001b[0m\u001b[0;34m,\u001b[0m \u001b[0;34m\"transpose_a\"\u001b[0m\u001b[0;34m,\u001b[0m\u001b[0;34m\u001b[0m\u001b[0;34m\u001b[0m\u001b[0m\n\u001b[0;32m-> 5901\u001b[0;31m         transpose_a, \"transpose_b\", transpose_b)\n\u001b[0m\u001b[1;32m   5902\u001b[0m       \u001b[0;32mreturn\u001b[0m \u001b[0m_result\u001b[0m\u001b[0;34m\u001b[0m\u001b[0;34m\u001b[0m\u001b[0m\n\u001b[1;32m   5903\u001b[0m     \u001b[0;32mexcept\u001b[0m \u001b[0m_core\u001b[0m\u001b[0;34m.\u001b[0m\u001b[0m_FallbackException\u001b[0m\u001b[0;34m:\u001b[0m\u001b[0;34m\u001b[0m\u001b[0;34m\u001b[0m\u001b[0m\n",
      "\u001b[0;31mKeyboardInterrupt\u001b[0m: "
     ]
    }
   ],
   "source": [
    "scores = []\n",
    "scores_deque = deque(maxlen=100) \n",
    "moving_scores = []\n",
    "from tqdm import tqdm_notebook\n",
    "\n",
    "for i in tqdm_notebook(range(10000)):\n",
    "    if (i+1) % 100==0: print(f'Episdoe {i} Moving Average: {np.mean(scores_deque)}')\n",
    "    state = env.reset().flatten()\n",
    "    score = 0\n",
    "    actions = []\n",
    "    while True:\n",
    "        #end game when there are no more legal moves\n",
    "        if len(env.legal_moves()) == 0:\n",
    "            score = env.turns\n",
    "            break\n",
    "        #select action\n",
    "        action_values = a.act_values(state) \n",
    "        if action_values=='random':\n",
    "            action = np.random.choice(env.legal_moves())\n",
    "        else:\n",
    "            for ac in action_values:\n",
    "                if ac in env.legal_moves():\n",
    "                    action = ac\n",
    "                    break\n",
    "        actions.append(action)\n",
    "\n",
    "        #env step\n",
    "        next_state, reward, done, info = env.step(action)   \n",
    "        \n",
    "        #agent step\n",
    "        a.step(state,action,reward,next_state,done)\n",
    "\n",
    "        \n",
    "        #go to next state\n",
    "        state = next_state.flatten()   \n",
    "        \n",
    "        #break if done\n",
    "        if done: \n",
    "            score = env.turns\n",
    "            break\n",
    "            \n",
    "    #book keeping\n",
    "    scores.append(score)\n",
    "    scores_deque.append(score)\n",
    "    moving_scores.append(np.mean(scores_deque))"
   ]
  },
  {
   "cell_type": "code",
   "execution_count": 41,
   "metadata": {},
   "outputs": [
    {
     "data": {
      "text/plain": [
       "[<matplotlib.lines.Line2D at 0x7fbc080f1f28>]"
      ]
     },
     "execution_count": 41,
     "metadata": {},
     "output_type": "execute_result"
    },
    {
     "data": {
      "image/png": "[encoded data removed]",
      "text/plain": [
       "<Figure size 432x288 with 1 Axes>"
      ]
     },
     "metadata": {
      "needs_background": "light"
     },
     "output_type": "display_data"
    }
   ],
   "source": [
    "plt.plot(scores)\n",
    "plt.plot(moving_scores)"
   ]
  },
  {
   "cell_type": "code",
   "execution_count": 48,
   "metadata": {},
   "outputs": [
    {
     "name": "stdout",
     "output_type": "stream",
     "text": [
      "Buildings:\n",
      " [[1 3 1 2 2]\n",
      " [0 0 2 3 2]\n",
      " [2 2 1 1 2]\n",
      " [1 3 0 2 0]\n",
      " [2 1 4 2 0]]\n",
      "Workers:\n",
      " [[ 0  0  1  0  0]\n",
      " [ 0  2  0 -1  0]\n",
      " [ 0  0  0  0  0]\n",
      " [ 0  0 -2  0  0]\n",
      " [ 0  0  0  0  0]]\n",
      "Parts:\n",
      " [[ 0  0  0  0  0]\n",
      " [ 0  2  0  0  0]\n",
      " [ 0  0  4  0  0]\n",
      " [ 0  0  0 10  0]\n",
      " [ 0  0  0  0 17]]\n"
     ]
    }
   ],
   "source": [
    "env.print_board()"
   ]
  },
  {
   "cell_type": "code",
   "execution_count": 47,
   "metadata": {},
   "outputs": [
    {
     "data": {
      "text/plain": [
       "(-2, 'z', 'e')"
      ]
     },
     "execution_count": 47,
     "metadata": {},
     "output_type": "execute_result"
    }
   ],
   "source": [
    "env.itoa[a.act(env.get_state().flatten())]"
   ]
  },
  {
   "cell_type": "code",
   "execution_count": null,
   "metadata": {},
   "outputs": [],
   "source": []
  }
 ],
 "metadata": {
  "kernelspec": {
   "display_name": "drlnd",
   "language": "python",
   "name": "drlnd"
  },
  "language_info": {
   "codemirror_mode": {
    "name": "ipython",
    "version": 3
   },
   "file_extension": ".py",
   "mimetype": "text/x-python",
   "name": "python",
   "nbconvert_exporter": "python",
   "pygments_lexer": "ipython3",
   "version": "3.6.6"
  }
 },
 "nbformat": 4,
 "nbformat_minor": 2
}
