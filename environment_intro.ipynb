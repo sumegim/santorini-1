{
 "cells": [
  {
   "cell_type": "markdown",
   "metadata": {},
   "source": [
    "# Introducing the `Santorini` environment"
   ]
  },
  {
   "cell_type": "markdown",
   "metadata": {},
   "source": [
    "## Game Rules\n",
    "We slightly modified the original [Santorini](https://boardgamegeek.com/boardgame/194655/santorini) boardgame to fit our training regime a little bit better.\n",
    "\n",
    "### Setup\n",
    "* 5x5 grid\n",
    "* 2 players (modified from 2-4 players)\n",
    "* 2 workers each\n",
    "* Building pieces\n",
    "    * 22 First floors\n",
    "    * 18 Second floors\n",
    "    * 14 Third floors\n",
    "    * 18 Domes\n",
    "* Workers start across from each other (modified from anywhere on the board)\n",
    "* No special powers (modified from special powers randomly given by cards)\n",
    "\n",
    "### Each Turn\n",
    "* Player chooses one of their workers to move to a cell on the board that is:\n",
    "    * Adjacent to the current position in all eight directions\n",
    "    * Empty; no other workers standing or no dome covering it\n",
    "    * No more than one level higher than the current position\n",
    "* Using that worker at the new current position, the player then choose to build on a cell that is:\n",
    "    * Adjacent to the current position in all eight directions\n",
    "    * Building progression is as follows: Empty Floor -> First Floor -> Second Floor -> Third Floor -> Dome\n",
    "    * A worker cannot build if there are no parts left\n",
    "    \n",
    "### Win Condition\n",
    "The player whose any of their workers stand on the third floor automatically wins."
   ]
  },
  {
   "cell_type": "code",
   "execution_count": null,
   "metadata": {},
   "outputs": [],
   "source": [
    "%matplotlib inline\n",
    "import numpy as np\n",
    "import matplotlib.pyplot as plt\n",
    "from santorinigo.environment import Santorini"
   ]
  },
  {
   "cell_type": "markdown",
   "metadata": {},
   "source": [
    "## Initialization "
   ]
  },
  {
   "cell_type": "markdown",
   "metadata": {},
   "source": [
    "Initialize the game with 2 players: `-1` and `1`. `-1` has negative workers `-1` and `-2` whereas `1` has positive workers `1` and `2`. Player `-1` always starts first.\n",
    "\n",
    "In order to see the human-legible board state, use `print_board` method. This will print out three layers:\n",
    "1. **Buildings**: the state of buildings, 0 being no building, 1-3 being one- to three-floor buildings, and 4 being a three-floor building with a dome on top\n",
    "2. **Workers**: negative numbers represent workers belonging to Player`-1` and positive numbers represent workers belonging to Player `1`.\n",
    "3. **Parts**: the diagonal contains number of pieces left for first, second, third floors and domes respectively (top left to lower right)."
   ]
  },
  {
   "cell_type": "code",
   "execution_count": 24,
   "metadata": {},
   "outputs": [
    {
     "name": "stdout",
     "output_type": "stream",
     "text": [
      "Buildings:\n",
      " [[0 0 0 0 0]\n",
      " [0 0 0 0 0]\n",
      " [0 0 0 0 0]\n",
      " [0 0 0 0 0]\n",
      " [0 0 0 0 0]]\n",
      "Workers:\n",
      " [[ 0  0 -1  0  0]\n",
      " [ 0  0  0  0  0]\n",
      " [ 1  0  0  0  2]\n",
      " [ 0  0  0  0  0]\n",
      " [ 0  0 -2  0  0]]\n",
      "Parts:\n",
      " [[ 0  0  0  0  0]\n",
      " [ 0 22  0  0  0]\n",
      " [ 0  0 18  0  0]\n",
      " [ 0  0  0 14  0]\n",
      " [ 0  0  0  0 18]]\n"
     ]
    }
   ],
   "source": [
    "env = Santorini(board_dim = (5,5), \n",
    "                starting_parts = np.array([0,22,18,14,18]),\n",
    "                history_len = 3, #tunable hyperparameter\n",
    "                winning_floor=3)\n",
    "#print out human-legible board state\n",
    "env.print_board()"
   ]
  },
  {
   "cell_type": "markdown",
   "metadata": {},
   "source": [
    "## States"
   ]
  },
  {
   "cell_type": "markdown",
   "metadata": {},
   "source": [
    "`get_state` method returns the for-machine state containing concatenation of the last `history_len` timesteps and one last 5x5 array of -1 or 1 depending on whose turn it is. Each timestep contains the following 5x5 arrays, in order:\n",
    "1. **Buildings layer**: same as `Buildings` in `print_board`\n",
    "2. **Worker `-1` layer**: 1 where worker `-1` is and 0 otherwise\n",
    "3. **Worker `-2` layer**: 1 where worker `-2` is and 0 otherwise\n",
    "4. **Worker `1` layer**: 1 where worker `1` is and 0 otherwise\n",
    "5. **Worker `2` layer**: 1 where worker `2` is and 0 otherwise"
   ]
  },
  {
   "cell_type": "code",
   "execution_count": 30,
   "metadata": {},
   "outputs": [
    {
     "name": "stdout",
     "output_type": "stream",
     "text": [
      "3\n",
      "16\n"
     ]
    },
    {
     "data": {
      "text/plain": [
       "(16, 5, 5)"
      ]
     },
     "execution_count": 30,
     "metadata": {},
     "output_type": "execute_result"
    }
   ],
   "source": [
    "#number of historical boards recorded\n",
    "print(env.history_len)\n",
    "#5 boards for buildings, worker -1, worker -2, worker 1, worker 2\n",
    "#1 boards for which player turn\n",
    "print(env.history_len * 5 + 1)\n",
    "env.get_state().shape"
   ]
  },
  {
   "cell_type": "markdown",
   "metadata": {},
   "source": [
    "## Actions"
   ]
  },
  {
   "cell_type": "markdown",
   "metadata": {},
   "source": [
    "Each turn a player chooses one of their 2 workers and perform 2 consecutive actions: move and build. The move action moves the selected worker in 8 possible directions. The build action will put a piece on any of the 8 possible directions. If the tile was empty, the worker will build first floor. If it already has first floor, the worker will build second floor and so on. You must move AND build in any turn unless the pieces run out and build action will do nothing.\n",
    "\n",
    "The directions mimic first-person shooting keyboard layout as follows:\n",
    "\n",
    "| _ | _ | _ | _ | _ |\n",
    "|---|---|----|---|---|\n",
    "| | | q | w | e | | |\n",
    "| | | a | -1 | d | | |\n",
    "| | | z | x | c | | |\n",
    "| _ | _ | _ | _ | _ |"
   ]
  },
  {
   "cell_type": "code",
   "execution_count": 32,
   "metadata": {},
   "outputs": [
    {
     "data": {
      "text/plain": [
       "128"
      ]
     },
     "execution_count": 32,
     "metadata": {},
     "output_type": "execute_result"
    }
   ],
   "source": [
    "#2 workers * 8 ways to move * 8 ways to build = 128 possible actions\n",
    "env.action_dim"
   ]
  },
  {
   "cell_type": "markdown",
   "metadata": {},
   "source": [
    "Thus, if you the move `-2` worker north (`w`) and build southeast (`c`), you will have the following board state:"
   ]
  },
  {
   "cell_type": "code",
   "execution_count": 33,
   "metadata": {},
   "outputs": [
    {
     "name": "stdout",
     "output_type": "stream",
     "text": [
      "Buildings:\n",
      " [[0 0 0 0 0]\n",
      " [0 0 0 0 0]\n",
      " [0 0 0 0 0]\n",
      " [0 0 0 0 0]\n",
      " [0 0 0 1 0]]\n",
      "Workers:\n",
      " [[ 0  0 -1  0  0]\n",
      " [ 0  0  0  0  0]\n",
      " [ 1  0  0  0  2]\n",
      " [ 0  0 -2  0  0]\n",
      " [ 0  0  0  0  0]]\n",
      "Parts:\n",
      " [[ 0  0  0  0  0]\n",
      " [ 0 21  0  0  0]\n",
      " [ 0  0 18  0  0]\n",
      " [ 0  0  0 14  0]\n",
      " [ 0  0  0  0 18]]\n"
     ]
    }
   ],
   "source": [
    "env.step(env.atoi[(-2,'w','c')])\n",
    "env.print_board()"
   ]
  },
  {
   "cell_type": "markdown",
   "metadata": {},
   "source": [
    "If you move out of the board, for instance moving worker `1` west (`a`) from the current board state, the game will end and player `1` will get -1. Likewise, with illegal builds. You can see all legal moves given the current board state by the `legal_moves` method."
   ]
  },
  {
   "cell_type": "code",
   "execution_count": 49,
   "metadata": {},
   "outputs": [
    {
     "data": {
      "text/plain": [
       "62"
      ]
     },
     "execution_count": 49,
     "metadata": {},
     "output_type": "execute_result"
    }
   ],
   "source": [
    "len(env.legal_moves())"
   ]
  },
  {
   "cell_type": "code",
   "execution_count": 38,
   "metadata": {},
   "outputs": [
    {
     "data": {
      "text/plain": [
       "[(-1, 'w', 'w'),\n",
       " (-1, 'w', 'e'),\n",
       " (-1, 'w', 'd'),\n",
       " (-1, 'w', 'x'),\n",
       " (-1, 'w', 'c'),\n",
       " (-1, 'e', 'q'),\n",
       " (-1, 'e', 'w'),\n",
       " (-1, 'e', 'a'),\n",
       " (-1, 'e', 'd'),\n",
       " (-1, 'e', 'z')]"
      ]
     },
     "execution_count": 38,
     "metadata": {},
     "output_type": "execute_result"
    }
   ],
   "source": [
    "#available actions\n",
    "[env.itoa[i] for i in env.legal_moves()][:10]"
   ]
  },
  {
   "cell_type": "markdown",
   "metadata": {},
   "source": [
    "There are also two useful properties `itoa` and `atoi` that serve as translators between action indice and action tuples."
   ]
  },
  {
   "cell_type": "code",
   "execution_count": 39,
   "metadata": {},
   "outputs": [
    {
     "data": {
      "text/plain": [
       "[(-1, 'q', 'q'),\n",
       " (-1, 'q', 'w'),\n",
       " (-1, 'q', 'e'),\n",
       " (-1, 'q', 'a'),\n",
       " (-1, 'q', 'd'),\n",
       " (-1, 'q', 'z'),\n",
       " (-1, 'q', 'x'),\n",
       " (-1, 'q', 'c'),\n",
       " (-1, 'w', 'q'),\n",
       " (-1, 'w', 'w')]"
      ]
     },
     "execution_count": 39,
     "metadata": {},
     "output_type": "execute_result"
    }
   ],
   "source": [
    "#env.itoa is a list of all action tuples; convert action indice to action tuples\n",
    "env.itoa[:10]"
   ]
  },
  {
   "cell_type": "code",
   "execution_count": 48,
   "metadata": {},
   "outputs": [
    {
     "name": "stdout",
     "output_type": "stream",
     "text": [
      "(-1, 'q', 'q') 0\n",
      "(-1, 'q', 'w') 1\n",
      "(-1, 'q', 'e') 2\n",
      "(-1, 'q', 'a') 3\n",
      "(-1, 'q', 'd') 4\n",
      "(-1, 'q', 'z') 5\n",
      "(-1, 'q', 'x') 6\n",
      "(-1, 'q', 'c') 7\n",
      "(-1, 'w', 'q') 8\n",
      "(-1, 'w', 'w') 9\n",
      "(-1, 'w', 'e') 10\n"
     ]
    }
   ],
   "source": [
    "#env.atoi is a dictionary with action tuples as keys and action indice as values\n",
    "#convert action tuples to action indice\n",
    "i=0\n",
    "for k,v in env.atoi.items():\n",
    "    i+=1\n",
    "    print(k,v)\n",
    "    if i>10: break"
   ]
  },
  {
   "cell_type": "markdown",
   "metadata": {},
   "source": [
    "## Human Play"
   ]
  },
  {
   "cell_type": "code",
   "execution_count": 56,
   "metadata": {},
   "outputs": [
    {
     "name": "stdout",
     "output_type": "stream",
     "text": [
      "Buildings:\n",
      " [[0 0 0 0 0]\n",
      " [0 0 0 0 0]\n",
      " [0 0 0 0 0]\n",
      " [0 0 0 0 0]\n",
      " [0 0 0 0 0]]\n",
      "Workers:\n",
      " [[ 0  0 -1  0  0]\n",
      " [ 0  0  0  0  0]\n",
      " [ 1  0  0  0  2]\n",
      " [ 0  0  0  0  0]\n",
      " [ 0  0 -2  0  0]]\n",
      "Parts:\n",
      " [[ 0  0  0  0  0]\n",
      " [ 0 22  0  0  0]\n",
      " [ 0  0 18  0  0]\n",
      " [ 0  0  0 14  0]\n",
      " [ 0  0  0  0 18]]\n"
     ]
    }
   ],
   "source": [
    "env = Santorini(board_dim = (5,5), \n",
    "                starting_parts = np.array([0,22,18,14,18]),\n",
    "                history_len = 3, #tunable hyperparameter\n",
    "                winning_floor=3)\n",
    "#print out human-legible board state\n",
    "env.print_board()"
   ]
  },
  {
   "cell_type": "markdown",
   "metadata": {},
   "source": [
    "You can keep running the following cells, changing only the `human_key` tuple to play the game."
   ]
  },
  {
   "cell_type": "code",
   "execution_count": 57,
   "metadata": {},
   "outputs": [
    {
     "name": "stdout",
     "output_type": "stream",
     "text": [
      "Player -1 performs (-1, 'x', 'w') action (index = 49)\n"
     ]
    }
   ],
   "source": [
    "#change this only\n",
    "human_key = (-1,'x','w')\n",
    "human_action = env.atoi[human_key]\n",
    "print(f'Player {env.current_player} performs {human_key} action (index = {human_action})')"
   ]
  },
  {
   "cell_type": "code",
   "execution_count": 58,
   "metadata": {},
   "outputs": [
    {
     "name": "stdout",
     "output_type": "stream",
     "text": [
      "Now Player 1 turn. Is game done? False\n",
      "Buildings:\n",
      " [[0 0 1 0 0]\n",
      " [0 0 0 0 0]\n",
      " [0 0 0 0 0]\n",
      " [0 0 0 0 0]\n",
      " [0 0 0 0 0]]\n",
      "Workers:\n",
      " [[ 0  0  0  0  0]\n",
      " [ 0  0 -1  0  0]\n",
      " [ 1  0  0  0  2]\n",
      " [ 0  0  0  0  0]\n",
      " [ 0  0 -2  0  0]]\n",
      "Parts:\n",
      " [[ 0  0  0  0  0]\n",
      " [ 0 21  0  0  0]\n",
      " [ 0  0 18  0  0]\n",
      " [ 0  0  0 14  0]\n",
      " [ 0  0  0  0 18]]\n"
     ]
    }
   ],
   "source": [
    "next_state,reward,done,current_player = env.step(human_action)\n",
    "print(f'Now Player {current_player} turn. Is game done? {done}')\n",
    "env.print_board()"
   ]
  },
  {
   "cell_type": "markdown",
   "metadata": {},
   "source": [
    "## Random Play"
   ]
  },
  {
   "cell_type": "markdown",
   "metadata": {},
   "source": [
    "With the help of `legal_moves` method, we can do random play until one player wins."
   ]
  },
  {
   "cell_type": "code",
   "execution_count": 67,
   "metadata": {},
   "outputs": [],
   "source": [
    "env = Santorini(board_dim = (5,5), \n",
    "                starting_parts = np.array([0,22,18,14,18]),\n",
    "                history_len = 3, #tunable hyperparameter\n",
    "                winning_floor=3)\n",
    "while True:\n",
    "    legal_moves = env.legal_moves()\n",
    "    action = np.random.choice(legal_moves)\n",
    "    next_state,reward,done,current_player = env.step(action)\n",
    "    if done: break"
   ]
  },
  {
   "cell_type": "code",
   "execution_count": 68,
   "metadata": {},
   "outputs": [
    {
     "name": "stdout",
     "output_type": "stream",
     "text": [
      "The game ended in 36 turns; -1 wins.\n",
      "Buildings:\n",
      " [[1 3 2 0 0]\n",
      " [1 2 1 4 1]\n",
      " [3 0 3 2 2]\n",
      " [1 3 2 2 0]\n",
      " [0 0 1 0 2]]\n",
      "Workers:\n",
      " [[ 0  0  0  0  0]\n",
      " [ 0  1  0  0  0]\n",
      " [ 0  0 -1  0 -2]\n",
      " [ 0  0  0  0  0]\n",
      " [ 0  0  2  0  0]]\n",
      "Parts:\n",
      " [[ 0  0  0  0  0]\n",
      " [ 0  4  0  0  0]\n",
      " [ 0  0  6  0  0]\n",
      " [ 0  0  0  9  0]\n",
      " [ 0  0  0  0 17]]\n"
     ]
    }
   ],
   "source": [
    "print(f'The game ended in {env.turns} turns; {current_player} wins.')\n",
    "env.print_board()"
   ]
  },
  {
   "cell_type": "code",
   "execution_count": null,
   "metadata": {},
   "outputs": [],
   "source": []
  }
 ],
 "metadata": {
  "kernelspec": {
   "display_name": "drlnd",
   "language": "python",
   "name": "drlnd"
  },
  "language_info": {
   "codemirror_mode": {
    "name": "ipython",
    "version": 3
   },
   "file_extension": ".py",
   "mimetype": "text/x-python",
   "name": "python",
   "nbconvert_exporter": "python",
   "pygments_lexer": "ipython3",
   "version": "3.6.6"
  }
 },
 "nbformat": 4,
 "nbformat_minor": 2
}
