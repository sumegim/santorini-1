{
 "cells": [
  {
   "cell_type": "code",
   "execution_count": 1,
   "metadata": {},
   "outputs": [],
   "source": [
    "%matplotlib inline\n",
    "import numpy as np\n",
    "import matplotlib.pyplot as plt\n",
    "from tqdm import trange\n",
    "from collections import namedtuple, Counter\n",
    "from ipywidgets import *\n",
    "from IPython.display import display, HTML\n",
    "\n",
    "from santorinigo.environment import Santorini\n",
    "from santorinigo.qnetwork import *\n",
    "from santorinigo.replay_memory import *\n",
    "from santorinigo.agent import Agent\n",
    "\n",
    "DATA_PATH = 'data/'\n",
    "MODEL_PATH = f'{DATA_PATH}models/'"
   ]
  },
  {
   "cell_type": "code",
   "execution_count": 5,
   "metadata": {},
   "outputs": [
    {
     "name": "stdout",
     "output_type": "stream",
     "text": [
      "Buildings:\n",
      " [[0 0 0 0 0]\n",
      " [0 0 0 0 0]\n",
      " [0 0 0 0 0]\n",
      " [0 0 0 0 0]\n",
      " [0 0 0 0 0]]\n",
      "Workers:\n",
      " [[ 0  0 -1  0  0]\n",
      " [ 0  0  0  0  0]\n",
      " [ 1  0  0  0  2]\n",
      " [ 0  0  0  0  0]\n",
      " [ 0  0 -2  0  0]]\n",
      "Parts:\n",
      " [[ 0  0  0  0  0]\n",
      " [ 0 22  0  0  0]\n",
      " [ 0  0 18  0  0]\n",
      " [ 0  0  0 14  0]\n",
      " [ 0  0  0  0 18]]\n"
     ]
    }
   ],
   "source": [
    "env = Santorini()\n",
    "env.print_board()"
   ]
  },
  {
   "cell_type": "code",
   "execution_count": 22,
   "metadata": {},
   "outputs": [
    {
     "data": {
      "text/plain": [
       "(array([[[ 1,  0,  1,  0,  0],\n",
       "         [ 1,  0,  0,  0,  0],\n",
       "         [ 0,  0,  0,  0,  0],\n",
       "         [ 0,  0,  0,  0,  0],\n",
       "         [ 0,  0,  1,  0,  0]],\n",
       " \n",
       "        [[ 0,  0,  0,  0,  0],\n",
       "         [ 0,  0, -1,  0,  0],\n",
       "         [ 1,  0,  0,  0,  2],\n",
       "         [ 0,  0, -2,  0,  0],\n",
       "         [ 0,  0,  0,  0,  0]]]), -0.001, False, 1)"
      ]
     },
     "execution_count": 22,
     "metadata": {},
     "output_type": "execute_result"
    }
   ],
   "source": [
    "env.step(env.atoi[(-2,'w','x')])"
   ]
  },
  {
   "cell_type": "code",
   "execution_count": 25,
   "metadata": {},
   "outputs": [
    {
     "data": {
      "text/plain": [
       "96"
      ]
     },
     "execution_count": 25,
     "metadata": {},
     "output_type": "execute_result"
    }
   ],
   "source": [
    "len(env.legal_moves())"
   ]
  },
  {
   "cell_type": "code",
   "execution_count": 26,
   "metadata": {},
   "outputs": [
    {
     "data": {
      "text/plain": [
       "array([[[ 1,  0,  1,  0,  0],\n",
       "        [ 1,  0,  0,  0,  0],\n",
       "        [ 0,  0,  0,  0,  0],\n",
       "        [ 0,  0,  0,  0,  0],\n",
       "        [ 0,  0,  1,  0,  0]],\n",
       "\n",
       "       [[ 0,  0,  0,  0,  0],\n",
       "        [ 0,  0, -1,  0,  0],\n",
       "        [ 1,  0,  0,  0,  2],\n",
       "        [ 0,  0, -2,  0,  0],\n",
       "        [ 0,  0,  0,  0,  0]]])"
      ]
     },
     "execution_count": 26,
     "metadata": {},
     "output_type": "execute_result"
    }
   ],
   "source": [
    "env.get_state()"
   ]
  },
  {
   "cell_type": "code",
   "execution_count": 6,
   "metadata": {},
   "outputs": [],
   "source": [
    "mem = PrioritizedMemory(capacity = 1000)\n",
    "a = Agent(state_size = env.state_dim_flat, action_size = env.action_dim, \n",
    "           env = env, replay_memory = mem, seed = 1412,\n",
    "           lr = 1e-3 / 4, bs = 64, nb_hidden = 128,\n",
    "           gamma=0.99, tau= 1/100, update_interval = 5)\n",
    "fname = f'{MODEL_PATH}half_rainbow_9999.m'\n",
    "a.qnetwork_local.load_state_dict(torch.load(fname))\n",
    "a.qnetwork_target.load_state_dict(torch.load(fname))"
   ]
  },
  {
   "cell_type": "markdown",
   "metadata": {},
   "source": [
    "## Agent's Turn"
   ]
  },
  {
   "cell_type": "code",
   "execution_count": 93,
   "metadata": {},
   "outputs": [
    {
     "data": {
      "text/plain": [
       "(-1, (-2, 'd', 'z'), 101)"
      ]
     },
     "execution_count": 93,
     "metadata": {},
     "output_type": "execute_result"
    }
   ],
   "source": [
    "state = env.get_state()\n",
    "agent_action = a.act(state,1000,legal_actions=env.legal_moves())\n",
    "env.current_player, env.itoa[agent_action], agent_action"
   ]
  },
  {
   "cell_type": "code",
   "execution_count": 94,
   "metadata": {},
   "outputs": [
    {
     "name": "stdout",
     "output_type": "stream",
     "text": [
      "-0.001\n",
      "Buildings:\n",
      " [[1 0 0 0 0]\n",
      " [0 1 1 2 0]\n",
      " [0 0 3 0 0]\n",
      " [0 3 0 2 0]\n",
      " [0 0 0 0 0]]\n",
      "Workers:\n",
      " [[ 0  0 -1  0  0]\n",
      " [ 0  0  0 -2  0]\n",
      " [ 0  1  0  0  0]\n",
      " [ 0  0  0  2  0]\n",
      " [ 0  0  0  0  0]]\n",
      "Parts:\n",
      " [[ 0  0  0  0  0]\n",
      " [ 0 15  0  0  0]\n",
      " [ 0  0 14  0  0]\n",
      " [ 0  0  0 12  0]\n",
      " [ 0  0  0  0 18]]\n"
     ]
    }
   ],
   "source": [
    "print(env.step(agent_action)[1])\n",
    "env.print_board()"
   ]
  },
  {
   "cell_type": "markdown",
   "metadata": {},
   "source": [
    "## Human's Turn"
   ]
  },
  {
   "cell_type": "code",
   "execution_count": 91,
   "metadata": {},
   "outputs": [
    {
     "data": {
      "text/plain": [
       "(1, (-2, 'c', 'q'), 120)"
      ]
     },
     "execution_count": 91,
     "metadata": {},
     "output_type": "execute_result"
    }
   ],
   "source": [
    "human_key = (-2,'c','q')\n",
    "human_action = env.atoi[human_key]\n",
    "env.current_player, human_key, human_action"
   ]
  },
  {
   "cell_type": "code",
   "execution_count": 92,
   "metadata": {},
   "outputs": [
    {
     "name": "stdout",
     "output_type": "stream",
     "text": [
      "-0.001\n",
      "Buildings:\n",
      " [[1 0 0 0 0]\n",
      " [0 1 1 2 0]\n",
      " [0 0 2 0 0]\n",
      " [0 3 0 2 0]\n",
      " [0 0 0 0 0]]\n",
      "Workers:\n",
      " [[ 0  0 -1  0  0]\n",
      " [ 0  0 -2  0  0]\n",
      " [ 0  1  0  0  0]\n",
      " [ 0  0  0  2  0]\n",
      " [ 0  0  0  0  0]]\n",
      "Parts:\n",
      " [[ 0  0  0  0  0]\n",
      " [ 0 15  0  0  0]\n",
      " [ 0  0 14  0  0]\n",
      " [ 0  0  0 13  0]\n",
      " [ 0  0  0  0 18]]\n"
     ]
    }
   ],
   "source": [
    "print(env.step(human_action)[1])\n",
    "env.print_board()"
   ]
  },
  {
   "cell_type": "code",
   "execution_count": null,
   "metadata": {},
   "outputs": [],
   "source": []
  }
 ],
 "metadata": {
  "kernelspec": {
   "display_name": "drlnd",
   "language": "python",
   "name": "drlnd"
  },
  "language_info": {
   "codemirror_mode": {
    "name": "ipython",
    "version": 3
   },
   "file_extension": ".py",
   "mimetype": "text/x-python",
   "name": "python",
   "nbconvert_exporter": "python",
   "pygments_lexer": "ipython3",
   "version": "3.6.6"
  }
 },
 "nbformat": 4,
 "nbformat_minor": 2
}
