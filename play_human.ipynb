{
 "cells": [
  {
   "cell_type": "code",
   "execution_count": 91,
   "metadata": {},
   "outputs": [],
   "source": [
    "%matplotlib inline\n",
    "import numpy as np\n",
    "import matplotlib.pyplot as plt\n",
    "from tqdm import trange\n",
    "from collections import namedtuple, Counter\n",
    "from ipywidgets import *\n",
    "from IPython.display import display, HTML\n",
    "\n",
    "from santorinigo.environment import Santorini\n",
    "from santorinigo.qnetwork import *\n",
    "from santorinigo.replay_memory import *\n",
    "from santorinigo.agent import Agent\n",
    "\n",
    "DATA_PATH = 'data/'\n",
    "MODEL_PATH = f'{DATA_PATH}models/'"
   ]
  },
  {
   "cell_type": "code",
   "execution_count": 92,
   "metadata": {},
   "outputs": [],
   "source": [
    "mem1 = PrioritizedMemory(capacity = 1000)\n",
    "a1 = Agent(state_size = env.state_dim_flat, action_size = env.action_dim, replay_memory = mem1, seed = 1412,\n",
    "          lr = 1e-3 / 4, bs = 64, nb_hidden = 128,\n",
    "          gamma=0.99, tau= 1/100, update_interval = 5)\n",
    "fname = f'{MODEL_PATH}half_rainbow_10k.m'\n",
    "a1.qnetwork_local.load_state_dict(torch.load(fname))\n",
    "a1.qnetwork_target.load_state_dict(torch.load(fname))"
   ]
  },
  {
   "cell_type": "code",
   "execution_count": 93,
   "metadata": {},
   "outputs": [
    {
     "name": "stdout",
     "output_type": "stream",
     "text": [
      "Buildings:\n",
      " [[0 0 0 0 0]\n",
      " [0 0 0 0 0]\n",
      " [0 0 0 0 0]\n",
      " [0 0 0 0 0]\n",
      " [0 0 0 0 0]]\n",
      "Workers:\n",
      " [[ 0  0 -1  0  0]\n",
      " [ 0  0  0  0  0]\n",
      " [ 1  0  0  0  2]\n",
      " [ 0  0  0  0  0]\n",
      " [ 0  0 -2  0  0]]\n",
      "Parts:\n",
      " [[ 0  0  0  0  0]\n",
      " [ 0 22  0  0  0]\n",
      " [ 0  0 18  0  0]\n",
      " [ 0  0  0 14  0]\n",
      " [ 0  0  0  0 18]]\n"
     ]
    }
   ],
   "source": [
    "env = Santorini()\n",
    "env.print_board()"
   ]
  },
  {
   "cell_type": "markdown",
   "metadata": {},
   "source": [
    "## Human's Turn"
   ]
  },
  {
   "cell_type": "code",
   "execution_count": 112,
   "metadata": {},
   "outputs": [
    {
     "data": {
      "text/plain": [
       "(1, (-2, 'q', 'a'), 67)"
      ]
     },
     "execution_count": 112,
     "metadata": {},
     "output_type": "execute_result"
    }
   ],
   "source": [
    "human_key = (-2,'q','a')\n",
    "human_action = env.atoi[human_key]\n",
    "env.current_player, human_key, human_action"
   ]
  },
  {
   "cell_type": "code",
   "execution_count": 113,
   "metadata": {},
   "outputs": [
    {
     "name": "stdout",
     "output_type": "stream",
     "text": [
      "Buildings:\n",
      " [[3 2 1 0 0]\n",
      " [1 0 1 0 0]\n",
      " [0 0 1 1 0]\n",
      " [0 0 0 0 0]\n",
      " [0 0 0 0 0]]\n",
      "Workers:\n",
      " [[ 0  2  0  0  0]\n",
      " [ 0  0  0  0  0]\n",
      " [-1  1  0  0  0]\n",
      " [ 0  0  0  0  0]\n",
      " [ 0  0 -2  0  0]]\n",
      "Parts:\n",
      " [[ 0  0  0  0  0]\n",
      " [ 0 15  0  0  0]\n",
      " [ 0  0 16  0  0]\n",
      " [ 0  0  0 13  0]\n",
      " [ 0  0  0  0 18]]\n"
     ]
    }
   ],
   "source": [
    "env.step(human_action)\n",
    "env.print_board()"
   ]
  },
  {
   "cell_type": "markdown",
   "metadata": {},
   "source": [
    "## Agent's Turn"
   ]
  },
  {
   "cell_type": "code",
   "execution_count": 114,
   "metadata": {},
   "outputs": [
    {
     "data": {
      "text/plain": [
       "(-1, (-1, 'x', 'w'), 49)"
      ]
     },
     "execution_count": 114,
     "metadata": {},
     "output_type": "execute_result"
    }
   ],
   "source": [
    "state = env.get_state()\n",
    "actions = a1.act(state,1000,return_list=True)\n",
    "#check legality\n",
    "legal_moves = env.legal_moves()\n",
    "for a in actions:\n",
    "    if a in legal_moves:\n",
    "        agent_action = a\n",
    "        break\n",
    "env.current_player, env.itoa[agent_action], agent_action"
   ]
  },
  {
   "cell_type": "code",
   "execution_count": 115,
   "metadata": {},
   "outputs": [
    {
     "name": "stdout",
     "output_type": "stream",
     "text": [
      "Buildings:\n",
      " [[3 2 1 0 0]\n",
      " [1 0 1 0 0]\n",
      " [1 0 1 1 0]\n",
      " [0 0 0 0 0]\n",
      " [0 0 0 0 0]]\n",
      "Workers:\n",
      " [[ 0  2  0  0  0]\n",
      " [ 0  0  0  0  0]\n",
      " [ 0  1  0  0  0]\n",
      " [-1  0  0  0  0]\n",
      " [ 0  0 -2  0  0]]\n",
      "Parts:\n",
      " [[ 0  0  0  0  0]\n",
      " [ 0 14  0  0  0]\n",
      " [ 0  0 16  0  0]\n",
      " [ 0  0  0 13  0]\n",
      " [ 0  0  0  0 18]]\n"
     ]
    }
   ],
   "source": [
    "env.step(agent_action)\n",
    "env.print_board()"
   ]
  },
  {
   "cell_type": "code",
   "execution_count": null,
   "metadata": {},
   "outputs": [],
   "source": []
  }
 ],
 "metadata": {
  "kernelspec": {
   "display_name": "drlnd",
   "language": "python",
   "name": "drlnd"
  },
  "language_info": {
   "codemirror_mode": {
    "name": "ipython",
    "version": 3
   },
   "file_extension": ".py",
   "mimetype": "text/x-python",
   "name": "python",
   "nbconvert_exporter": "python",
   "pygments_lexer": "ipython3",
   "version": "3.6.6"
  }
 },
 "nbformat": 4,
 "nbformat_minor": 2
}
