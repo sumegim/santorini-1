{
 "cells": [
  {
   "cell_type": "markdown",
   "metadata": {},
   "source": [
    "# Environment"
   ]
  },
  {
   "cell_type": "code",
   "execution_count": 2,
   "metadata": {},
   "outputs": [],
   "source": [
    "import numpy as np"
   ]
  },
  {
   "cell_type": "code",
   "execution_count": 7,
   "metadata": {},
   "outputs": [],
   "source": [
    "class Santorini:\n",
    "    def __init__(self):\n",
    "        #building pieces\n",
    "        #floor, base, mid, top, dome\n",
    "        self.parts = [0,22,18,14,18]\n",
    "        \n",
    "        #keep track of players\n",
    "        self.current_player = 1\n",
    "\n",
    "        #board\n",
    "        self.width = 5\n",
    "        self.height = 5\n",
    "        self.coords = [(i,j) for i in range(self.width) for j in range(self.height)]\n",
    "        self.board = dict.fromkeys(self.coords,[])\n",
    "        for k in self.board.keys():\n",
    "            #(x,y) and [slot level, player]\n",
    "            self.board[k] = [0,0]\n",
    "        self.board[(0,2)][1], self.board[(4,2)][1] = 1,1\n",
    "        self.board[(2,0)][1], self.board[(2,4)][1] = 2,2\n",
    "    \n",
    "    def board_to_state(self):\n",
    "        state = []\n",
    "        for l in s.board.values():\n",
    "            state.append(''.join([str(e) for e in l]))\n",
    "        state=''.join(state)\n",
    "        return(state)\n",
    "    \n",
    "    def score(self):\n",
    "        reward = 0\n",
    "        for l in s.board.values():\n",
    "            if (l[0]==0) & (l[1]!=0):\n",
    "                #get reward depending on which side you are on\n",
    "                if l[1] == s.current_player:\n",
    "                    reward = 1\n",
    "                else:\n",
    "                    reward = -1\n",
    "                return(reward)\n",
    "            else:\n",
    "                reward = 0\n",
    "        return(reward)\n",
    "        \n",
    "    def move(self,src,dest):\n",
    "        in_range = (abs(src[0] - dest[0])<=1) & (abs(src[1] - dest[1]) <=1)\n",
    "        #check if correct turn\n",
    "        if self.board[src][1]!=self.current_player:\n",
    "            raise ValueError('Wrong Player')\n",
    "        #check legality of the move; in range, no one standing\n",
    "        elif in_range & (self.board[dest][1]==0):\n",
    "            self.board[src][1] = 0\n",
    "            self.board[dest][1] = self.current_player\n",
    "        else:\n",
    "            raise ValueError('Illegal Move')\n",
    "    \n",
    "    def build(self,src,dest):\n",
    "        in_range = (abs(src[0] - dest[0])<=1) & (abs(src[1] - dest[1]) <=1)\n",
    "        to_build = self.board[dest][0] + 1\n",
    "        if to_build <=4:\n",
    "            parts_left = self.parts[to_build]\n",
    "        else:\n",
    "            raise ValueError('Illegal Build')\n",
    "        #check if correct turn\n",
    "        if self.board[src][1]!=self.current_player:\n",
    "            raise ValueError('Wrong Player')\n",
    "        #check legality of the build; in range, enough parts, no one standing\n",
    "        elif in_range & (parts_left > 0) & (self.board[dest][1]==0):\n",
    "            self.board[dest][0] = to_build\n",
    "            self.parts[to_build] -= 1\n",
    "        else:\n",
    "            raise ValueError('Illegal Build')\n",
    "                  \n",
    "    def step(self,src,walk_dest,build_dest):\n",
    "        #try to move\n",
    "        try:\n",
    "            self.move(src,walk_dest)\n",
    "        except:\n",
    "            print('Illegal Move')\n",
    "            return(self.board_to_state(),-10)\n",
    "        #try to build\n",
    "        try:\n",
    "            self.build(walk_dest,build_dest)\n",
    "        except:\n",
    "            print('Illegal Build')\n",
    "            return(self.board_to_state(),-10)\n",
    "        #check if game over\n",
    "        return(self.board_to_state(),self.score())\n",
    "        \n",
    "    def print_board(self):\n",
    "        for i in range(self.width):\n",
    "            print(\"-----------------------------------\")\n",
    "            for j in range(self.height):\n",
    "                v = self.board[(i,j)]\n",
    "                print(f'{v}|',end='')\n",
    "            print('')"
   ]
  },
  {
   "cell_type": "code",
   "execution_count": 8,
   "metadata": {},
   "outputs": [],
   "source": [
    "s = Santorini()"
   ]
  },
  {
   "cell_type": "code",
   "execution_count": 12,
   "metadata": {},
   "outputs": [
    {
     "name": "stdout",
     "output_type": "stream",
     "text": [
      "-----------------------------------\n",
      "[0, 0]|[0, 0]|[0, 1]|[0, 0]|[0, 0]|\n",
      "-----------------------------------\n",
      "[0, 0]|[0, 0]|[0, 0]|[0, 0]|[0, 0]|\n",
      "-----------------------------------\n",
      "[0, 2]|[0, 0]|[0, 0]|[0, 0]|[0, 2]|\n",
      "-----------------------------------\n",
      "[0, 0]|[0, 0]|[0, 0]|[0, 0]|[0, 0]|\n",
      "-----------------------------------\n",
      "[0, 0]|[0, 0]|[0, 1]|[0, 0]|[0, 0]|\n"
     ]
    }
   ],
   "source": [
    "s.print_board()"
   ]
  },
  {
   "cell_type": "code",
   "execution_count": 10,
   "metadata": {},
   "outputs": [
    {
     "data": {
      "text/plain": [
       "{(0, 0): [0, 0],\n",
       " (0, 1): [0, 0],\n",
       " (0, 2): [0, 1],\n",
       " (0, 3): [0, 0],\n",
       " (0, 4): [0, 0],\n",
       " (1, 0): [0, 0],\n",
       " (1, 1): [0, 0],\n",
       " (1, 2): [0, 0],\n",
       " (1, 3): [0, 0],\n",
       " (1, 4): [0, 0],\n",
       " (2, 0): [0, 2],\n",
       " (2, 1): [0, 0],\n",
       " (2, 2): [0, 0],\n",
       " (2, 3): [0, 0],\n",
       " (2, 4): [0, 2],\n",
       " (3, 0): [0, 0],\n",
       " (3, 1): [0, 0],\n",
       " (3, 2): [0, 0],\n",
       " (3, 3): [0, 0],\n",
       " (3, 4): [0, 0],\n",
       " (4, 0): [0, 0],\n",
       " (4, 1): [0, 0],\n",
       " (4, 2): [0, 1],\n",
       " (4, 3): [0, 0],\n",
       " (4, 4): [0, 0]}"
      ]
     },
     "execution_count": 10,
     "metadata": {},
     "output_type": "execute_result"
    }
   ],
   "source": [
    "s.board"
   ]
  }
 ],
 "metadata": {
  "kernelspec": {
   "display_name": "Python 3",
   "language": "python",
   "name": "python3"
  },
  "language_info": {
   "codemirror_mode": {
    "name": "ipython",
    "version": 3
   },
   "file_extension": ".py",
   "mimetype": "text/x-python",
   "name": "python",
   "nbconvert_exporter": "python",
   "pygments_lexer": "ipython3",
   "version": "3.6.5"
  }
 },
 "nbformat": 4,
 "nbformat_minor": 2
}
